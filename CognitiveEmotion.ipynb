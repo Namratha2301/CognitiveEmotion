{
  "cells": [
    {
      "cell_type": "markdown",
      "metadata": {
        "id": "Xhv8HA1IbIf7"
      },
      "source": [
        "# ML MODELS"
      ]
    },
    {
      "cell_type": "code",
      "execution_count": null,
      "metadata": {
        "id": "dMD8Cuvk7aGW"
      },
      "outputs": [],
      "source": [
        "! mkdir ~/.kaggle\n",
        "! cp kaggle.json ~/.kaggle/\n",
        "! chmod 600 ~/.kaggle/kaggle.json"
      ]
    },
    {
      "cell_type": "code",
      "execution_count": null,
      "metadata": {
        "colab": {
          "base_uri": "https://localhost:8080/"
        },
        "id": "0fPzlGak7coH",
        "outputId": "f13dc00b-f1e4-4c4b-ffea-e98c1a4182c7"
      },
      "outputs": [
        {
          "output_type": "stream",
          "name": "stdout",
          "text": [
            "Downloading eeg-brainwave-dataset-feeling-emotions.zip to /content\n",
            " 76% 9.00M/11.9M [00:01<00:00, 7.25MB/s]\n",
            "100% 11.9M/11.9M [00:01<00:00, 10.5MB/s]\n"
          ]
        }
      ],
      "source": [
        "! kaggle datasets download birdy654/eeg-brainwave-dataset-feeling-emotions"
      ]
    },
    {
      "cell_type": "code",
      "execution_count": null,
      "metadata": {
        "colab": {
          "base_uri": "https://localhost:8080/"
        },
        "id": "RlWPXx7h7kG-",
        "outputId": "47947123-72cd-42b2-abdf-843b76b2c8c4"
      },
      "outputs": [
        {
          "output_type": "stream",
          "name": "stdout",
          "text": [
            "Archive:  /content/eeg-brainwave-dataset-feeling-emotions.zip\n",
            "  inflating: emotions.csv            \n"
          ]
        }
      ],
      "source": [
        "! unzip /content/eeg-brainwave-dataset-feeling-emotions.zip"
      ]
    },
    {
      "cell_type": "markdown",
      "metadata": {
        "id": "yAPLhK1z69JS"
      },
      "source": [
        "<h2 style=\"text-align:center; color:#546545;text-shadow: 2px 2px 4px #000000;\">Import Packages</h2>"
      ]
    },
    {
      "cell_type": "code",
      "execution_count": null,
      "metadata": {
        "id": "1zRyYgYw69JU",
        "scrolled": true
      },
      "outputs": [],
      "source": [
        "import pandas as pd\n",
        "import numpy as np\n",
        "import matplotlib.pyplot as plt\n",
        "import seaborn as sns\n",
        "%matplotlib inline\n",
        "\n",
        "from sklearn.pipeline import Pipeline\n",
        "from sklearn.preprocessing import StandardScaler\n",
        "from sklearn.decomposition import PCA\n",
        "from sklearn.ensemble import RandomForestClassifier\n",
        "from sklearn.svm import LinearSVC\n",
        "from sklearn.model_selection import cross_val_score, train_test_split\n",
        "from sklearn.linear_model import LogisticRegression\n",
        "from sklearn.neural_network import MLPClassifier\n",
        "\n",
        "import xgboost as xgb\n",
        "\n",
        "import warnings\n",
        "import os\n"
      ]
    },
    {
      "cell_type": "code",
      "execution_count": null,
      "metadata": {
        "id": "82m3u4KW69JY"
      },
      "outputs": [],
      "source": [
        "brainwave_df = pd.read_csv('emotions.csv')"
      ]
    },
    {
      "cell_type": "markdown",
      "metadata": {
        "id": "8PL1GCvR69JZ"
      },
      "source": [
        "<h2 style=\"text-align:center; color:#546545;text-shadow: 2px 2px 4px #000000;\">Peek of Data</h2>"
      ]
    },
    {
      "cell_type": "code",
      "execution_count": null,
      "metadata": {
        "colab": {
          "base_uri": "https://localhost:8080/",
          "height": 317
        },
        "id": "wAJg2b5t69Jb",
        "outputId": "eb66b9c9-a6b7-4d74-d4c0-d78792c76b01"
      },
      "outputs": [
        {
          "output_type": "execute_result",
          "data": {
            "text/plain": [
              "   # mean_0_a  mean_1_a  mean_2_a  mean_3_a  mean_4_a  mean_d_0_a  mean_d_1_a  \\\n",
              "0        4.62      30.3    -356.0      15.6      26.3       1.070       0.411   \n",
              "1       28.80      33.1      32.0      25.8      22.8       6.550       1.680   \n",
              "2        8.90      29.4    -416.0      16.7      23.7      79.900       3.360   \n",
              "3       14.90      31.6    -143.0      19.8      24.3      -0.584      -0.284   \n",
              "4       28.30      31.3      45.2      27.3      24.5      34.800      -5.790   \n",
              "\n",
              "   mean_d_2_a  mean_d_3_a  mean_d_4_a  ...  fft_741_b  fft_742_b  fft_743_b  \\\n",
              "0      -15.70        2.06        3.15  ...       23.5       20.3       20.3   \n",
              "1        2.88        3.83       -4.82  ...      -23.3      -21.8      -21.8   \n",
              "2       90.20       89.90        2.03  ...      462.0     -233.0     -233.0   \n",
              "3        8.82        2.30       -1.97  ...      299.0     -243.0     -243.0   \n",
              "4        3.06       41.40        5.52  ...       12.0       38.1       38.1   \n",
              "\n",
              "   fft_744_b  fft_745_b  fft_746_b  fft_747_b  fft_748_b  fft_749_b     label  \n",
              "0       23.5     -215.0     280.00    -162.00    -162.00     280.00  NEGATIVE  \n",
              "1      -23.3      182.0       2.57     -31.60     -31.60       2.57   NEUTRAL  \n",
              "2      462.0     -267.0     281.00    -148.00    -148.00     281.00  POSITIVE  \n",
              "3      299.0      132.0     -12.40       9.53       9.53     -12.40  POSITIVE  \n",
              "4       12.0      119.0     -17.60      23.90      23.90     -17.60   NEUTRAL  \n",
              "\n",
              "[5 rows x 2549 columns]"
            ],
            "text/html": [
              "\n",
              "  <div id=\"df-60e6cbda-2b2d-4670-a6d9-7c3c61cad8ce\">\n",
              "    <div class=\"colab-df-container\">\n",
              "      <div>\n",
              "<style scoped>\n",
              "    .dataframe tbody tr th:only-of-type {\n",
              "        vertical-align: middle;\n",
              "    }\n",
              "\n",
              "    .dataframe tbody tr th {\n",
              "        vertical-align: top;\n",
              "    }\n",
              "\n",
              "    .dataframe thead th {\n",
              "        text-align: right;\n",
              "    }\n",
              "</style>\n",
              "<table border=\"1\" class=\"dataframe\">\n",
              "  <thead>\n",
              "    <tr style=\"text-align: right;\">\n",
              "      <th></th>\n",
              "      <th># mean_0_a</th>\n",
              "      <th>mean_1_a</th>\n",
              "      <th>mean_2_a</th>\n",
              "      <th>mean_3_a</th>\n",
              "      <th>mean_4_a</th>\n",
              "      <th>mean_d_0_a</th>\n",
              "      <th>mean_d_1_a</th>\n",
              "      <th>mean_d_2_a</th>\n",
              "      <th>mean_d_3_a</th>\n",
              "      <th>mean_d_4_a</th>\n",
              "      <th>...</th>\n",
              "      <th>fft_741_b</th>\n",
              "      <th>fft_742_b</th>\n",
              "      <th>fft_743_b</th>\n",
              "      <th>fft_744_b</th>\n",
              "      <th>fft_745_b</th>\n",
              "      <th>fft_746_b</th>\n",
              "      <th>fft_747_b</th>\n",
              "      <th>fft_748_b</th>\n",
              "      <th>fft_749_b</th>\n",
              "      <th>label</th>\n",
              "    </tr>\n",
              "  </thead>\n",
              "  <tbody>\n",
              "    <tr>\n",
              "      <th>0</th>\n",
              "      <td>4.62</td>\n",
              "      <td>30.3</td>\n",
              "      <td>-356.0</td>\n",
              "      <td>15.6</td>\n",
              "      <td>26.3</td>\n",
              "      <td>1.070</td>\n",
              "      <td>0.411</td>\n",
              "      <td>-15.70</td>\n",
              "      <td>2.06</td>\n",
              "      <td>3.15</td>\n",
              "      <td>...</td>\n",
              "      <td>23.5</td>\n",
              "      <td>20.3</td>\n",
              "      <td>20.3</td>\n",
              "      <td>23.5</td>\n",
              "      <td>-215.0</td>\n",
              "      <td>280.00</td>\n",
              "      <td>-162.00</td>\n",
              "      <td>-162.00</td>\n",
              "      <td>280.00</td>\n",
              "      <td>NEGATIVE</td>\n",
              "    </tr>\n",
              "    <tr>\n",
              "      <th>1</th>\n",
              "      <td>28.80</td>\n",
              "      <td>33.1</td>\n",
              "      <td>32.0</td>\n",
              "      <td>25.8</td>\n",
              "      <td>22.8</td>\n",
              "      <td>6.550</td>\n",
              "      <td>1.680</td>\n",
              "      <td>2.88</td>\n",
              "      <td>3.83</td>\n",
              "      <td>-4.82</td>\n",
              "      <td>...</td>\n",
              "      <td>-23.3</td>\n",
              "      <td>-21.8</td>\n",
              "      <td>-21.8</td>\n",
              "      <td>-23.3</td>\n",
              "      <td>182.0</td>\n",
              "      <td>2.57</td>\n",
              "      <td>-31.60</td>\n",
              "      <td>-31.60</td>\n",
              "      <td>2.57</td>\n",
              "      <td>NEUTRAL</td>\n",
              "    </tr>\n",
              "    <tr>\n",
              "      <th>2</th>\n",
              "      <td>8.90</td>\n",
              "      <td>29.4</td>\n",
              "      <td>-416.0</td>\n",
              "      <td>16.7</td>\n",
              "      <td>23.7</td>\n",
              "      <td>79.900</td>\n",
              "      <td>3.360</td>\n",
              "      <td>90.20</td>\n",
              "      <td>89.90</td>\n",
              "      <td>2.03</td>\n",
              "      <td>...</td>\n",
              "      <td>462.0</td>\n",
              "      <td>-233.0</td>\n",
              "      <td>-233.0</td>\n",
              "      <td>462.0</td>\n",
              "      <td>-267.0</td>\n",
              "      <td>281.00</td>\n",
              "      <td>-148.00</td>\n",
              "      <td>-148.00</td>\n",
              "      <td>281.00</td>\n",
              "      <td>POSITIVE</td>\n",
              "    </tr>\n",
              "    <tr>\n",
              "      <th>3</th>\n",
              "      <td>14.90</td>\n",
              "      <td>31.6</td>\n",
              "      <td>-143.0</td>\n",
              "      <td>19.8</td>\n",
              "      <td>24.3</td>\n",
              "      <td>-0.584</td>\n",
              "      <td>-0.284</td>\n",
              "      <td>8.82</td>\n",
              "      <td>2.30</td>\n",
              "      <td>-1.97</td>\n",
              "      <td>...</td>\n",
              "      <td>299.0</td>\n",
              "      <td>-243.0</td>\n",
              "      <td>-243.0</td>\n",
              "      <td>299.0</td>\n",
              "      <td>132.0</td>\n",
              "      <td>-12.40</td>\n",
              "      <td>9.53</td>\n",
              "      <td>9.53</td>\n",
              "      <td>-12.40</td>\n",
              "      <td>POSITIVE</td>\n",
              "    </tr>\n",
              "    <tr>\n",
              "      <th>4</th>\n",
              "      <td>28.30</td>\n",
              "      <td>31.3</td>\n",
              "      <td>45.2</td>\n",
              "      <td>27.3</td>\n",
              "      <td>24.5</td>\n",
              "      <td>34.800</td>\n",
              "      <td>-5.790</td>\n",
              "      <td>3.06</td>\n",
              "      <td>41.40</td>\n",
              "      <td>5.52</td>\n",
              "      <td>...</td>\n",
              "      <td>12.0</td>\n",
              "      <td>38.1</td>\n",
              "      <td>38.1</td>\n",
              "      <td>12.0</td>\n",
              "      <td>119.0</td>\n",
              "      <td>-17.60</td>\n",
              "      <td>23.90</td>\n",
              "      <td>23.90</td>\n",
              "      <td>-17.60</td>\n",
              "      <td>NEUTRAL</td>\n",
              "    </tr>\n",
              "  </tbody>\n",
              "</table>\n",
              "<p>5 rows × 2549 columns</p>\n",
              "</div>\n",
              "      <button class=\"colab-df-convert\" onclick=\"convertToInteractive('df-60e6cbda-2b2d-4670-a6d9-7c3c61cad8ce')\"\n",
              "              title=\"Convert this dataframe to an interactive table.\"\n",
              "              style=\"display:none;\">\n",
              "        \n",
              "  <svg xmlns=\"http://www.w3.org/2000/svg\" height=\"24px\"viewBox=\"0 0 24 24\"\n",
              "       width=\"24px\">\n",
              "    <path d=\"M0 0h24v24H0V0z\" fill=\"none\"/>\n",
              "    <path d=\"M18.56 5.44l.94 2.06.94-2.06 2.06-.94-2.06-.94-.94-2.06-.94 2.06-2.06.94zm-11 1L8.5 8.5l.94-2.06 2.06-.94-2.06-.94L8.5 2.5l-.94 2.06-2.06.94zm10 10l.94 2.06.94-2.06 2.06-.94-2.06-.94-.94-2.06-.94 2.06-2.06.94z\"/><path d=\"M17.41 7.96l-1.37-1.37c-.4-.4-.92-.59-1.43-.59-.52 0-1.04.2-1.43.59L10.3 9.45l-7.72 7.72c-.78.78-.78 2.05 0 2.83L4 21.41c.39.39.9.59 1.41.59.51 0 1.02-.2 1.41-.59l7.78-7.78 2.81-2.81c.8-.78.8-2.07 0-2.86zM5.41 20L4 18.59l7.72-7.72 1.47 1.35L5.41 20z\"/>\n",
              "  </svg>\n",
              "      </button>\n",
              "      \n",
              "  <style>\n",
              "    .colab-df-container {\n",
              "      display:flex;\n",
              "      flex-wrap:wrap;\n",
              "      gap: 12px;\n",
              "    }\n",
              "\n",
              "    .colab-df-convert {\n",
              "      background-color: #E8F0FE;\n",
              "      border: none;\n",
              "      border-radius: 50%;\n",
              "      cursor: pointer;\n",
              "      display: none;\n",
              "      fill: #1967D2;\n",
              "      height: 32px;\n",
              "      padding: 0 0 0 0;\n",
              "      width: 32px;\n",
              "    }\n",
              "\n",
              "    .colab-df-convert:hover {\n",
              "      background-color: #E2EBFA;\n",
              "      box-shadow: 0px 1px 2px rgba(60, 64, 67, 0.3), 0px 1px 3px 1px rgba(60, 64, 67, 0.15);\n",
              "      fill: #174EA6;\n",
              "    }\n",
              "\n",
              "    [theme=dark] .colab-df-convert {\n",
              "      background-color: #3B4455;\n",
              "      fill: #D2E3FC;\n",
              "    }\n",
              "\n",
              "    [theme=dark] .colab-df-convert:hover {\n",
              "      background-color: #434B5C;\n",
              "      box-shadow: 0px 1px 3px 1px rgba(0, 0, 0, 0.15);\n",
              "      filter: drop-shadow(0px 1px 2px rgba(0, 0, 0, 0.3));\n",
              "      fill: #FFFFFF;\n",
              "    }\n",
              "  </style>\n",
              "\n",
              "      <script>\n",
              "        const buttonEl =\n",
              "          document.querySelector('#df-60e6cbda-2b2d-4670-a6d9-7c3c61cad8ce button.colab-df-convert');\n",
              "        buttonEl.style.display =\n",
              "          google.colab.kernel.accessAllowed ? 'block' : 'none';\n",
              "\n",
              "        async function convertToInteractive(key) {\n",
              "          const element = document.querySelector('#df-60e6cbda-2b2d-4670-a6d9-7c3c61cad8ce');\n",
              "          const dataTable =\n",
              "            await google.colab.kernel.invokeFunction('convertToInteractive',\n",
              "                                                     [key], {});\n",
              "          if (!dataTable) return;\n",
              "\n",
              "          const docLinkHtml = 'Like what you see? Visit the ' +\n",
              "            '<a target=\"_blank\" href=https://colab.research.google.com/notebooks/data_table.ipynb>data table notebook</a>'\n",
              "            + ' to learn more about interactive tables.';\n",
              "          element.innerHTML = '';\n",
              "          dataTable['output_type'] = 'display_data';\n",
              "          await google.colab.output.renderOutput(dataTable, element);\n",
              "          const docLink = document.createElement('div');\n",
              "          docLink.innerHTML = docLinkHtml;\n",
              "          element.appendChild(docLink);\n",
              "        }\n",
              "      </script>\n",
              "    </div>\n",
              "  </div>\n",
              "  "
            ]
          },
          "metadata": {},
          "execution_count": 33
        }
      ],
      "source": [
        "brainwave_df.head()"
      ]
    },
    {
      "cell_type": "markdown",
      "metadata": {
        "id": "1yQiiJ0g69Jg"
      },
      "source": [
        "<h2 style=\"text-align:center; color:#546545;text-shadow: 2px 2px 4px #000000;\">Dimensions of Data"
      ]
    },
    {
      "cell_type": "code",
      "execution_count": null,
      "metadata": {
        "colab": {
          "base_uri": "https://localhost:8080/"
        },
        "id": "fpVtW18k69Jh",
        "outputId": "3d223415-b822-4e8b-a763-7c982e913633"
      },
      "outputs": [
        {
          "output_type": "execute_result",
          "data": {
            "text/plain": [
              "(2132, 2549)"
            ]
          },
          "metadata": {},
          "execution_count": 35
        }
      ],
      "source": [
        "brainwave_df.shape"
      ]
    },
    {
      "cell_type": "markdown",
      "metadata": {
        "id": "MTRcfQPV69Jj"
      },
      "source": [
        "<h2 style=\"text-align:center; color:#546545;text-shadow: 2px 2px 4px #000000;\">Data Type For Each Attribute</h2>"
      ]
    },
    {
      "cell_type": "code",
      "execution_count": null,
      "metadata": {
        "colab": {
          "base_uri": "https://localhost:8080/"
        },
        "id": "rm299_NR69Jk",
        "outputId": "f87b6270-1423-47cd-d55f-afa651d80bab"
      },
      "outputs": [
        {
          "output_type": "execute_result",
          "data": {
            "text/plain": [
              "# mean_0_a    float64\n",
              "mean_1_a      float64\n",
              "mean_2_a      float64\n",
              "mean_3_a      float64\n",
              "mean_4_a      float64\n",
              "               ...   \n",
              "fft_746_b     float64\n",
              "fft_747_b     float64\n",
              "fft_748_b     float64\n",
              "fft_749_b     float64\n",
              "label          object\n",
              "Length: 2549, dtype: object"
            ]
          },
          "metadata": {},
          "execution_count": 36
        }
      ],
      "source": [
        "brainwave_df.dtypes"
      ]
    },
    {
      "cell_type": "markdown",
      "metadata": {
        "id": "N24PwINm69Jr"
      },
      "source": [
        "<h2 style=\"text-align:center; color:#546545;text-shadow: 2px 2px 4px #000000;\">Descriptive Statistics</h2>"
      ]
    },
    {
      "cell_type": "code",
      "execution_count": null,
      "metadata": {
        "colab": {
          "base_uri": "https://localhost:8080/",
          "height": 394
        },
        "id": "ffE918Th69Js",
        "outputId": "10902e70-aaa0-49cf-fcb2-e2159031c673"
      },
      "outputs": [
        {
          "output_type": "execute_result",
          "data": {
            "text/plain": [
              "        # mean_0_a     mean_1_a     mean_2_a     mean_3_a     mean_4_a  \\\n",
              "count  2132.000000  2132.000000  2132.000000  2132.000000  2132.000000   \n",
              "mean     15.256914    27.012462  -104.975629    13.605898    24.150483   \n",
              "std      15.284621     9.265141   206.271960    16.874676    14.187340   \n",
              "min     -61.300000  -114.000000  -970.000000  -137.000000  -217.000000   \n",
              "25%       6.577500    26.075000  -195.000000     4.857500    23.600000   \n",
              "50%      14.100000    30.000000    14.950000    15.400000    25.200000   \n",
              "75%      27.700000    31.400000    29.600000    26.500000    26.800000   \n",
              "max     304.000000    42.300000   661.000000   206.000000   213.000000   \n",
              "\n",
              "        mean_d_0_a   mean_d_1_a   mean_d_2_a   mean_d_3_a   mean_d_4_a  ...  \\\n",
              "count  2132.000000  2132.000000  2132.000000  2132.000000  2132.000000  ...   \n",
              "mean      0.025378     0.052282     0.301655     0.036793     0.083567  ...   \n",
              "std      17.981796     8.509174    68.098894    17.010031    18.935378  ...   \n",
              "min    -218.000000  -255.000000 -1360.000000  -203.000000  -553.000000  ...   \n",
              "25%      -3.105000    -1.340000    -4.002500    -2.905000    -2.622500  ...   \n",
              "50%      -0.044600     0.132000     0.957500    -0.099750     0.146500  ...   \n",
              "75%       2.920000     1.540000     6.735000     2.535000     2.870000  ...   \n",
              "max     402.000000   257.000000  1150.000000   349.000000   444.000000  ...   \n",
              "\n",
              "         fft_740_b    fft_741_b    fft_742_b    fft_743_b    fft_744_b  \\\n",
              "count  2132.000000  2132.000000  2132.000000  2132.000000  2132.000000   \n",
              "mean    -22.938971   104.946111   -51.973647   -51.973647   104.946111   \n",
              "std     298.034311   212.532721   112.160233   112.160233   212.532721   \n",
              "min   -1180.000000  -921.000000  -504.000000  -504.000000  -921.000000   \n",
              "25%    -106.500000    -8.365000   -92.900000   -92.900000    -8.365000   \n",
              "50%      83.850000    12.150000   -21.800000   -21.800000    12.150000   \n",
              "75%     154.000000   177.000000    12.025000    12.025000   177.000000   \n",
              "max    1070.000000   843.000000  1490.000000  1490.000000   843.000000   \n",
              "\n",
              "         fft_745_b    fft_746_b    fft_747_b    fft_748_b    fft_749_b  \n",
              "count  2132.000000  2132.000000  2132.000000  2132.000000  2132.000000  \n",
              "mean     -6.934144    95.104886   -49.061255   -49.061255    95.104886  \n",
              "std     281.040552   203.194976   106.486317   106.486317   203.194976  \n",
              "min   -1160.000000 -1010.000000  -521.000000  -521.000000 -1010.000000  \n",
              "25%    -102.500000    -8.837500   -87.150000   -87.150000    -8.837500  \n",
              "50%      89.700000    13.400000   -24.100000   -24.100000    13.400000  \n",
              "75%     153.000000   149.250000    10.925000    10.925000   149.250000  \n",
              "max    1180.000000   888.000000  1670.000000  1670.000000   888.000000  \n",
              "\n",
              "[8 rows x 2548 columns]"
            ],
            "text/html": [
              "\n",
              "  <div id=\"df-4c285d3e-77fa-4514-80c6-31df7f8030b3\">\n",
              "    <div class=\"colab-df-container\">\n",
              "      <div>\n",
              "<style scoped>\n",
              "    .dataframe tbody tr th:only-of-type {\n",
              "        vertical-align: middle;\n",
              "    }\n",
              "\n",
              "    .dataframe tbody tr th {\n",
              "        vertical-align: top;\n",
              "    }\n",
              "\n",
              "    .dataframe thead th {\n",
              "        text-align: right;\n",
              "    }\n",
              "</style>\n",
              "<table border=\"1\" class=\"dataframe\">\n",
              "  <thead>\n",
              "    <tr style=\"text-align: right;\">\n",
              "      <th></th>\n",
              "      <th># mean_0_a</th>\n",
              "      <th>mean_1_a</th>\n",
              "      <th>mean_2_a</th>\n",
              "      <th>mean_3_a</th>\n",
              "      <th>mean_4_a</th>\n",
              "      <th>mean_d_0_a</th>\n",
              "      <th>mean_d_1_a</th>\n",
              "      <th>mean_d_2_a</th>\n",
              "      <th>mean_d_3_a</th>\n",
              "      <th>mean_d_4_a</th>\n",
              "      <th>...</th>\n",
              "      <th>fft_740_b</th>\n",
              "      <th>fft_741_b</th>\n",
              "      <th>fft_742_b</th>\n",
              "      <th>fft_743_b</th>\n",
              "      <th>fft_744_b</th>\n",
              "      <th>fft_745_b</th>\n",
              "      <th>fft_746_b</th>\n",
              "      <th>fft_747_b</th>\n",
              "      <th>fft_748_b</th>\n",
              "      <th>fft_749_b</th>\n",
              "    </tr>\n",
              "  </thead>\n",
              "  <tbody>\n",
              "    <tr>\n",
              "      <th>count</th>\n",
              "      <td>2132.000000</td>\n",
              "      <td>2132.000000</td>\n",
              "      <td>2132.000000</td>\n",
              "      <td>2132.000000</td>\n",
              "      <td>2132.000000</td>\n",
              "      <td>2132.000000</td>\n",
              "      <td>2132.000000</td>\n",
              "      <td>2132.000000</td>\n",
              "      <td>2132.000000</td>\n",
              "      <td>2132.000000</td>\n",
              "      <td>...</td>\n",
              "      <td>2132.000000</td>\n",
              "      <td>2132.000000</td>\n",
              "      <td>2132.000000</td>\n",
              "      <td>2132.000000</td>\n",
              "      <td>2132.000000</td>\n",
              "      <td>2132.000000</td>\n",
              "      <td>2132.000000</td>\n",
              "      <td>2132.000000</td>\n",
              "      <td>2132.000000</td>\n",
              "      <td>2132.000000</td>\n",
              "    </tr>\n",
              "    <tr>\n",
              "      <th>mean</th>\n",
              "      <td>15.256914</td>\n",
              "      <td>27.012462</td>\n",
              "      <td>-104.975629</td>\n",
              "      <td>13.605898</td>\n",
              "      <td>24.150483</td>\n",
              "      <td>0.025378</td>\n",
              "      <td>0.052282</td>\n",
              "      <td>0.301655</td>\n",
              "      <td>0.036793</td>\n",
              "      <td>0.083567</td>\n",
              "      <td>...</td>\n",
              "      <td>-22.938971</td>\n",
              "      <td>104.946111</td>\n",
              "      <td>-51.973647</td>\n",
              "      <td>-51.973647</td>\n",
              "      <td>104.946111</td>\n",
              "      <td>-6.934144</td>\n",
              "      <td>95.104886</td>\n",
              "      <td>-49.061255</td>\n",
              "      <td>-49.061255</td>\n",
              "      <td>95.104886</td>\n",
              "    </tr>\n",
              "    <tr>\n",
              "      <th>std</th>\n",
              "      <td>15.284621</td>\n",
              "      <td>9.265141</td>\n",
              "      <td>206.271960</td>\n",
              "      <td>16.874676</td>\n",
              "      <td>14.187340</td>\n",
              "      <td>17.981796</td>\n",
              "      <td>8.509174</td>\n",
              "      <td>68.098894</td>\n",
              "      <td>17.010031</td>\n",
              "      <td>18.935378</td>\n",
              "      <td>...</td>\n",
              "      <td>298.034311</td>\n",
              "      <td>212.532721</td>\n",
              "      <td>112.160233</td>\n",
              "      <td>112.160233</td>\n",
              "      <td>212.532721</td>\n",
              "      <td>281.040552</td>\n",
              "      <td>203.194976</td>\n",
              "      <td>106.486317</td>\n",
              "      <td>106.486317</td>\n",
              "      <td>203.194976</td>\n",
              "    </tr>\n",
              "    <tr>\n",
              "      <th>min</th>\n",
              "      <td>-61.300000</td>\n",
              "      <td>-114.000000</td>\n",
              "      <td>-970.000000</td>\n",
              "      <td>-137.000000</td>\n",
              "      <td>-217.000000</td>\n",
              "      <td>-218.000000</td>\n",
              "      <td>-255.000000</td>\n",
              "      <td>-1360.000000</td>\n",
              "      <td>-203.000000</td>\n",
              "      <td>-553.000000</td>\n",
              "      <td>...</td>\n",
              "      <td>-1180.000000</td>\n",
              "      <td>-921.000000</td>\n",
              "      <td>-504.000000</td>\n",
              "      <td>-504.000000</td>\n",
              "      <td>-921.000000</td>\n",
              "      <td>-1160.000000</td>\n",
              "      <td>-1010.000000</td>\n",
              "      <td>-521.000000</td>\n",
              "      <td>-521.000000</td>\n",
              "      <td>-1010.000000</td>\n",
              "    </tr>\n",
              "    <tr>\n",
              "      <th>25%</th>\n",
              "      <td>6.577500</td>\n",
              "      <td>26.075000</td>\n",
              "      <td>-195.000000</td>\n",
              "      <td>4.857500</td>\n",
              "      <td>23.600000</td>\n",
              "      <td>-3.105000</td>\n",
              "      <td>-1.340000</td>\n",
              "      <td>-4.002500</td>\n",
              "      <td>-2.905000</td>\n",
              "      <td>-2.622500</td>\n",
              "      <td>...</td>\n",
              "      <td>-106.500000</td>\n",
              "      <td>-8.365000</td>\n",
              "      <td>-92.900000</td>\n",
              "      <td>-92.900000</td>\n",
              "      <td>-8.365000</td>\n",
              "      <td>-102.500000</td>\n",
              "      <td>-8.837500</td>\n",
              "      <td>-87.150000</td>\n",
              "      <td>-87.150000</td>\n",
              "      <td>-8.837500</td>\n",
              "    </tr>\n",
              "    <tr>\n",
              "      <th>50%</th>\n",
              "      <td>14.100000</td>\n",
              "      <td>30.000000</td>\n",
              "      <td>14.950000</td>\n",
              "      <td>15.400000</td>\n",
              "      <td>25.200000</td>\n",
              "      <td>-0.044600</td>\n",
              "      <td>0.132000</td>\n",
              "      <td>0.957500</td>\n",
              "      <td>-0.099750</td>\n",
              "      <td>0.146500</td>\n",
              "      <td>...</td>\n",
              "      <td>83.850000</td>\n",
              "      <td>12.150000</td>\n",
              "      <td>-21.800000</td>\n",
              "      <td>-21.800000</td>\n",
              "      <td>12.150000</td>\n",
              "      <td>89.700000</td>\n",
              "      <td>13.400000</td>\n",
              "      <td>-24.100000</td>\n",
              "      <td>-24.100000</td>\n",
              "      <td>13.400000</td>\n",
              "    </tr>\n",
              "    <tr>\n",
              "      <th>75%</th>\n",
              "      <td>27.700000</td>\n",
              "      <td>31.400000</td>\n",
              "      <td>29.600000</td>\n",
              "      <td>26.500000</td>\n",
              "      <td>26.800000</td>\n",
              "      <td>2.920000</td>\n",
              "      <td>1.540000</td>\n",
              "      <td>6.735000</td>\n",
              "      <td>2.535000</td>\n",
              "      <td>2.870000</td>\n",
              "      <td>...</td>\n",
              "      <td>154.000000</td>\n",
              "      <td>177.000000</td>\n",
              "      <td>12.025000</td>\n",
              "      <td>12.025000</td>\n",
              "      <td>177.000000</td>\n",
              "      <td>153.000000</td>\n",
              "      <td>149.250000</td>\n",
              "      <td>10.925000</td>\n",
              "      <td>10.925000</td>\n",
              "      <td>149.250000</td>\n",
              "    </tr>\n",
              "    <tr>\n",
              "      <th>max</th>\n",
              "      <td>304.000000</td>\n",
              "      <td>42.300000</td>\n",
              "      <td>661.000000</td>\n",
              "      <td>206.000000</td>\n",
              "      <td>213.000000</td>\n",
              "      <td>402.000000</td>\n",
              "      <td>257.000000</td>\n",
              "      <td>1150.000000</td>\n",
              "      <td>349.000000</td>\n",
              "      <td>444.000000</td>\n",
              "      <td>...</td>\n",
              "      <td>1070.000000</td>\n",
              "      <td>843.000000</td>\n",
              "      <td>1490.000000</td>\n",
              "      <td>1490.000000</td>\n",
              "      <td>843.000000</td>\n",
              "      <td>1180.000000</td>\n",
              "      <td>888.000000</td>\n",
              "      <td>1670.000000</td>\n",
              "      <td>1670.000000</td>\n",
              "      <td>888.000000</td>\n",
              "    </tr>\n",
              "  </tbody>\n",
              "</table>\n",
              "<p>8 rows × 2548 columns</p>\n",
              "</div>\n",
              "      <button class=\"colab-df-convert\" onclick=\"convertToInteractive('df-4c285d3e-77fa-4514-80c6-31df7f8030b3')\"\n",
              "              title=\"Convert this dataframe to an interactive table.\"\n",
              "              style=\"display:none;\">\n",
              "        \n",
              "  <svg xmlns=\"http://www.w3.org/2000/svg\" height=\"24px\"viewBox=\"0 0 24 24\"\n",
              "       width=\"24px\">\n",
              "    <path d=\"M0 0h24v24H0V0z\" fill=\"none\"/>\n",
              "    <path d=\"M18.56 5.44l.94 2.06.94-2.06 2.06-.94-2.06-.94-.94-2.06-.94 2.06-2.06.94zm-11 1L8.5 8.5l.94-2.06 2.06-.94-2.06-.94L8.5 2.5l-.94 2.06-2.06.94zm10 10l.94 2.06.94-2.06 2.06-.94-2.06-.94-.94-2.06-.94 2.06-2.06.94z\"/><path d=\"M17.41 7.96l-1.37-1.37c-.4-.4-.92-.59-1.43-.59-.52 0-1.04.2-1.43.59L10.3 9.45l-7.72 7.72c-.78.78-.78 2.05 0 2.83L4 21.41c.39.39.9.59 1.41.59.51 0 1.02-.2 1.41-.59l7.78-7.78 2.81-2.81c.8-.78.8-2.07 0-2.86zM5.41 20L4 18.59l7.72-7.72 1.47 1.35L5.41 20z\"/>\n",
              "  </svg>\n",
              "      </button>\n",
              "      \n",
              "  <style>\n",
              "    .colab-df-container {\n",
              "      display:flex;\n",
              "      flex-wrap:wrap;\n",
              "      gap: 12px;\n",
              "    }\n",
              "\n",
              "    .colab-df-convert {\n",
              "      background-color: #E8F0FE;\n",
              "      border: none;\n",
              "      border-radius: 50%;\n",
              "      cursor: pointer;\n",
              "      display: none;\n",
              "      fill: #1967D2;\n",
              "      height: 32px;\n",
              "      padding: 0 0 0 0;\n",
              "      width: 32px;\n",
              "    }\n",
              "\n",
              "    .colab-df-convert:hover {\n",
              "      background-color: #E2EBFA;\n",
              "      box-shadow: 0px 1px 2px rgba(60, 64, 67, 0.3), 0px 1px 3px 1px rgba(60, 64, 67, 0.15);\n",
              "      fill: #174EA6;\n",
              "    }\n",
              "\n",
              "    [theme=dark] .colab-df-convert {\n",
              "      background-color: #3B4455;\n",
              "      fill: #D2E3FC;\n",
              "    }\n",
              "\n",
              "    [theme=dark] .colab-df-convert:hover {\n",
              "      background-color: #434B5C;\n",
              "      box-shadow: 0px 1px 3px 1px rgba(0, 0, 0, 0.15);\n",
              "      filter: drop-shadow(0px 1px 2px rgba(0, 0, 0, 0.3));\n",
              "      fill: #FFFFFF;\n",
              "    }\n",
              "  </style>\n",
              "\n",
              "      <script>\n",
              "        const buttonEl =\n",
              "          document.querySelector('#df-4c285d3e-77fa-4514-80c6-31df7f8030b3 button.colab-df-convert');\n",
              "        buttonEl.style.display =\n",
              "          google.colab.kernel.accessAllowed ? 'block' : 'none';\n",
              "\n",
              "        async function convertToInteractive(key) {\n",
              "          const element = document.querySelector('#df-4c285d3e-77fa-4514-80c6-31df7f8030b3');\n",
              "          const dataTable =\n",
              "            await google.colab.kernel.invokeFunction('convertToInteractive',\n",
              "                                                     [key], {});\n",
              "          if (!dataTable) return;\n",
              "\n",
              "          const docLinkHtml = 'Like what you see? Visit the ' +\n",
              "            '<a target=\"_blank\" href=https://colab.research.google.com/notebooks/data_table.ipynb>data table notebook</a>'\n",
              "            + ' to learn more about interactive tables.';\n",
              "          element.innerHTML = '';\n",
              "          dataTable['output_type'] = 'display_data';\n",
              "          await google.colab.output.renderOutput(dataTable, element);\n",
              "          const docLink = document.createElement('div');\n",
              "          docLink.innerHTML = docLinkHtml;\n",
              "          element.appendChild(docLink);\n",
              "        }\n",
              "      </script>\n",
              "    </div>\n",
              "  </div>\n",
              "  "
            ]
          },
          "metadata": {},
          "execution_count": 37
        }
      ],
      "source": [
        "brainwave_df.describe()"
      ]
    },
    {
      "cell_type": "markdown",
      "metadata": {
        "id": "U00mSZyu69Jt"
      },
      "source": [
        "<h2 style=\"text-align:center; color:#546545;text-shadow: 2px 2px 4px #000000;\">Class Distribution</h2>"
      ]
    },
    {
      "cell_type": "code",
      "execution_count": null,
      "metadata": {
        "colab": {
          "base_uri": "https://localhost:8080/",
          "height": 396
        },
        "id": "QruBKk8w69Ju",
        "outputId": "05921814-c5b0-4c5e-c59e-37f504661ed0"
      },
      "outputs": [
        {
          "output_type": "display_data",
          "data": {
            "text/plain": [
              "<Figure size 864x360 with 1 Axes>"
            ],
            "image/png": "[encoded data removed]"
          },
          "metadata": {
            "needs_background": "light"
          }
        }
      ],
      "source": [
        "plt.figure(figsize=(12,5))\n",
        "sns.countplot(x='label', data=brainwave_df)\n",
        "plt.title('Emotional sentiment class distribution', fontsize=16)\n",
        "plt.ylabel('Class Counts', fontsize=16)\n",
        "plt.xlabel('Class Label', fontsize=16)\n",
        "plt.xticks(rotation='vertical');"
      ]
    },
    {
      "cell_type": "markdown",
      "metadata": {
        "id": "HdSLUQ1D69Jv"
      },
      "source": [
        "<h2 style=\"text-align:center; color:#546545;text-shadow: 2px 2px 4px #000000;\">Correlation Between Attributes</h2>\n",
        "Correlation refers to the relationship between two variables and how they may or may not change together.\n",
        "\n",
        "**Pearson’s Correlation Coefficient**\n",
        "\n",
        "A correlation of -1 or 1 shows a full negative or positive correlation respectively. Whereas a value of 0 shows no correlation at all."
      ]
    },
    {
      "cell_type": "code",
      "execution_count": null,
      "metadata": {
        "id": "4ISH6wst69Jw"
      },
      "outputs": [],
      "source": [
        "label_df = brainwave_df['label']\n",
        "brainwave_df.drop('label', axis = 1, inplace=True)"
      ]
    },
    {
      "cell_type": "code",
      "execution_count": null,
      "metadata": {
        "colab": {
          "base_uri": "https://localhost:8080/",
          "height": 522
        },
        "id": "jsVE29CF69Jx",
        "outputId": "4b3f7733-f90e-4fe8-9449-8f78fbe13458"
      },
      "outputs": [
        {
          "data": {
            "text/html": [
              "\n",
              "  <div id=\"df-7d8076fb-a283-45b0-85be-dee3d14d35ba\">\n",
              "    <div class=\"colab-df-container\">\n",
              "      <div>\n",
              "<style scoped>\n",
              "    .dataframe tbody tr th:only-of-type {\n",
              "        vertical-align: middle;\n",
              "    }\n",
              "\n",
              "    .dataframe tbody tr th {\n",
              "        vertical-align: top;\n",
              "    }\n",
              "\n",
              "    .dataframe thead th {\n",
              "        text-align: right;\n",
              "    }\n",
              "</style>\n",
              "<table border=\"1\" class=\"dataframe\">\n",
              "  <thead>\n",
              "    <tr style=\"text-align: right;\">\n",
              "      <th></th>\n",
              "      <th># mean_0_a</th>\n",
              "      <th>mean_1_a</th>\n",
              "      <th>mean_2_a</th>\n",
              "      <th>mean_3_a</th>\n",
              "      <th>mean_4_a</th>\n",
              "      <th>mean_d_0_a</th>\n",
              "      <th>mean_d_1_a</th>\n",
              "      <th>mean_d_2_a</th>\n",
              "      <th>mean_d_3_a</th>\n",
              "      <th>mean_d_4_a</th>\n",
              "      <th>...</th>\n",
              "      <th>fft_740_b</th>\n",
              "      <th>fft_741_b</th>\n",
              "      <th>fft_742_b</th>\n",
              "      <th>fft_743_b</th>\n",
              "      <th>fft_744_b</th>\n",
              "      <th>fft_745_b</th>\n",
              "      <th>fft_746_b</th>\n",
              "      <th>fft_747_b</th>\n",
              "      <th>fft_748_b</th>\n",
              "      <th>fft_749_b</th>\n",
              "    </tr>\n",
              "  </thead>\n",
              "  <tbody>\n",
              "    <tr>\n",
              "      <th># mean_0_a</th>\n",
              "      <td>1.000000</td>\n",
              "      <td>0.176578</td>\n",
              "      <td>0.429810</td>\n",
              "      <td>0.582697</td>\n",
              "      <td>0.178432</td>\n",
              "      <td>-0.000665</td>\n",
              "      <td>0.105961</td>\n",
              "      <td>-0.061046</td>\n",
              "      <td>0.135370</td>\n",
              "      <td>0.008472</td>\n",
              "      <td>...</td>\n",
              "      <td>0.301672</td>\n",
              "      <td>-0.245671</td>\n",
              "      <td>0.204764</td>\n",
              "      <td>0.204764</td>\n",
              "      <td>-0.245671</td>\n",
              "      <td>0.268983</td>\n",
              "      <td>-0.220566</td>\n",
              "      <td>0.196653</td>\n",
              "      <td>0.196653</td>\n",
              "      <td>-0.220566</td>\n",
              "    </tr>\n",
              "    <tr>\n",
              "      <th>mean_1_a</th>\n",
              "      <td>0.176578</td>\n",
              "      <td>1.000000</td>\n",
              "      <td>-0.007202</td>\n",
              "      <td>0.571530</td>\n",
              "      <td>0.385041</td>\n",
              "      <td>-0.088608</td>\n",
              "      <td>-0.007586</td>\n",
              "      <td>-0.050463</td>\n",
              "      <td>-0.119391</td>\n",
              "      <td>-0.017197</td>\n",
              "      <td>...</td>\n",
              "      <td>0.130717</td>\n",
              "      <td>-0.047208</td>\n",
              "      <td>0.002549</td>\n",
              "      <td>0.002549</td>\n",
              "      <td>-0.047208</td>\n",
              "      <td>0.153244</td>\n",
              "      <td>-0.096173</td>\n",
              "      <td>0.069532</td>\n",
              "      <td>0.069532</td>\n",
              "      <td>-0.096173</td>\n",
              "    </tr>\n",
              "    <tr>\n",
              "      <th>mean_2_a</th>\n",
              "      <td>0.429810</td>\n",
              "      <td>-0.007202</td>\n",
              "      <td>1.000000</td>\n",
              "      <td>0.081567</td>\n",
              "      <td>-0.095696</td>\n",
              "      <td>0.015122</td>\n",
              "      <td>0.014605</td>\n",
              "      <td>-0.004320</td>\n",
              "      <td>0.055625</td>\n",
              "      <td>-0.003564</td>\n",
              "      <td>...</td>\n",
              "      <td>0.699461</td>\n",
              "      <td>-0.742275</td>\n",
              "      <td>0.622567</td>\n",
              "      <td>0.622567</td>\n",
              "      <td>-0.742275</td>\n",
              "      <td>0.674195</td>\n",
              "      <td>-0.728296</td>\n",
              "      <td>0.565044</td>\n",
              "      <td>0.565044</td>\n",
              "      <td>-0.728296</td>\n",
              "    </tr>\n",
              "    <tr>\n",
              "      <th>mean_3_a</th>\n",
              "      <td>0.582697</td>\n",
              "      <td>0.571530</td>\n",
              "      <td>0.081567</td>\n",
              "      <td>1.000000</td>\n",
              "      <td>0.220842</td>\n",
              "      <td>-0.117748</td>\n",
              "      <td>0.124462</td>\n",
              "      <td>-0.175592</td>\n",
              "      <td>-0.001782</td>\n",
              "      <td>0.017110</td>\n",
              "      <td>...</td>\n",
              "      <td>0.133720</td>\n",
              "      <td>-0.067460</td>\n",
              "      <td>0.048202</td>\n",
              "      <td>0.048202</td>\n",
              "      <td>-0.067460</td>\n",
              "      <td>0.103294</td>\n",
              "      <td>-0.061376</td>\n",
              "      <td>0.051216</td>\n",
              "      <td>0.051216</td>\n",
              "      <td>-0.061376</td>\n",
              "    </tr>\n",
              "    <tr>\n",
              "      <th>mean_4_a</th>\n",
              "      <td>0.178432</td>\n",
              "      <td>0.385041</td>\n",
              "      <td>-0.095696</td>\n",
              "      <td>0.220842</td>\n",
              "      <td>1.000000</td>\n",
              "      <td>-0.017196</td>\n",
              "      <td>-0.007570</td>\n",
              "      <td>0.025546</td>\n",
              "      <td>-0.033443</td>\n",
              "      <td>-0.020361</td>\n",
              "      <td>...</td>\n",
              "      <td>-0.043602</td>\n",
              "      <td>0.069458</td>\n",
              "      <td>-0.090163</td>\n",
              "      <td>-0.090163</td>\n",
              "      <td>0.069458</td>\n",
              "      <td>-0.039620</td>\n",
              "      <td>0.056452</td>\n",
              "      <td>-0.016933</td>\n",
              "      <td>-0.016933</td>\n",
              "      <td>0.056452</td>\n",
              "    </tr>\n",
              "    <tr>\n",
              "      <th>...</th>\n",
              "      <td>...</td>\n",
              "      <td>...</td>\n",
              "      <td>...</td>\n",
              "      <td>...</td>\n",
              "      <td>...</td>\n",
              "      <td>...</td>\n",
              "      <td>...</td>\n",
              "      <td>...</td>\n",
              "      <td>...</td>\n",
              "      <td>...</td>\n",
              "      <td>...</td>\n",
              "      <td>...</td>\n",
              "      <td>...</td>\n",
              "      <td>...</td>\n",
              "      <td>...</td>\n",
              "      <td>...</td>\n",
              "      <td>...</td>\n",
              "      <td>...</td>\n",
              "      <td>...</td>\n",
              "      <td>...</td>\n",
              "      <td>...</td>\n",
              "    </tr>\n",
              "    <tr>\n",
              "      <th>fft_745_b</th>\n",
              "      <td>0.268983</td>\n",
              "      <td>0.153244</td>\n",
              "      <td>0.674195</td>\n",
              "      <td>0.103294</td>\n",
              "      <td>-0.039620</td>\n",
              "      <td>0.024944</td>\n",
              "      <td>-0.043387</td>\n",
              "      <td>0.098389</td>\n",
              "      <td>-0.022019</td>\n",
              "      <td>-0.003329</td>\n",
              "      <td>...</td>\n",
              "      <td>0.458558</td>\n",
              "      <td>-0.431711</td>\n",
              "      <td>0.415781</td>\n",
              "      <td>0.415781</td>\n",
              "      <td>-0.431711</td>\n",
              "      <td>1.000000</td>\n",
              "      <td>-0.938696</td>\n",
              "      <td>0.834622</td>\n",
              "      <td>0.834622</td>\n",
              "      <td>-0.938696</td>\n",
              "    </tr>\n",
              "    <tr>\n",
              "      <th>fft_746_b</th>\n",
              "      <td>-0.220566</td>\n",
              "      <td>-0.096173</td>\n",
              "      <td>-0.728296</td>\n",
              "      <td>-0.061376</td>\n",
              "      <td>0.056452</td>\n",
              "      <td>0.002976</td>\n",
              "      <td>-0.001477</td>\n",
              "      <td>-0.061713</td>\n",
              "      <td>0.005671</td>\n",
              "      <td>-0.005395</td>\n",
              "      <td>...</td>\n",
              "      <td>-0.493145</td>\n",
              "      <td>0.531019</td>\n",
              "      <td>-0.459876</td>\n",
              "      <td>-0.459876</td>\n",
              "      <td>0.531019</td>\n",
              "      <td>-0.938696</td>\n",
              "      <td>1.000000</td>\n",
              "      <td>-0.815108</td>\n",
              "      <td>-0.815108</td>\n",
              "      <td>1.000000</td>\n",
              "    </tr>\n",
              "    <tr>\n",
              "      <th>fft_747_b</th>\n",
              "      <td>0.196653</td>\n",
              "      <td>0.069532</td>\n",
              "      <td>0.565044</td>\n",
              "      <td>0.051216</td>\n",
              "      <td>-0.016933</td>\n",
              "      <td>-0.017169</td>\n",
              "      <td>0.003350</td>\n",
              "      <td>0.149472</td>\n",
              "      <td>-0.040408</td>\n",
              "      <td>0.003422</td>\n",
              "      <td>...</td>\n",
              "      <td>0.375438</td>\n",
              "      <td>-0.355117</td>\n",
              "      <td>0.499272</td>\n",
              "      <td>0.499272</td>\n",
              "      <td>-0.355117</td>\n",
              "      <td>0.834622</td>\n",
              "      <td>-0.815108</td>\n",
              "      <td>1.000000</td>\n",
              "      <td>1.000000</td>\n",
              "      <td>-0.815108</td>\n",
              "    </tr>\n",
              "    <tr>\n",
              "      <th>fft_748_b</th>\n",
              "      <td>0.196653</td>\n",
              "      <td>0.069532</td>\n",
              "      <td>0.565044</td>\n",
              "      <td>0.051216</td>\n",
              "      <td>-0.016933</td>\n",
              "      <td>-0.017169</td>\n",
              "      <td>0.003350</td>\n",
              "      <td>0.149472</td>\n",
              "      <td>-0.040408</td>\n",
              "      <td>0.003422</td>\n",
              "      <td>...</td>\n",
              "      <td>0.375438</td>\n",
              "      <td>-0.355117</td>\n",
              "      <td>0.499272</td>\n",
              "      <td>0.499272</td>\n",
              "      <td>-0.355117</td>\n",
              "      <td>0.834622</td>\n",
              "      <td>-0.815108</td>\n",
              "      <td>1.000000</td>\n",
              "      <td>1.000000</td>\n",
              "      <td>-0.815108</td>\n",
              "    </tr>\n",
              "    <tr>\n",
              "      <th>fft_749_b</th>\n",
              "      <td>-0.220566</td>\n",
              "      <td>-0.096173</td>\n",
              "      <td>-0.728296</td>\n",
              "      <td>-0.061376</td>\n",
              "      <td>0.056452</td>\n",
              "      <td>0.002976</td>\n",
              "      <td>-0.001477</td>\n",
              "      <td>-0.061713</td>\n",
              "      <td>0.005671</td>\n",
              "      <td>-0.005395</td>\n",
              "      <td>...</td>\n",
              "      <td>-0.493145</td>\n",
              "      <td>0.531019</td>\n",
              "      <td>-0.459876</td>\n",
              "      <td>-0.459876</td>\n",
              "      <td>0.531019</td>\n",
              "      <td>-0.938696</td>\n",
              "      <td>1.000000</td>\n",
              "      <td>-0.815108</td>\n",
              "      <td>-0.815108</td>\n",
              "      <td>1.000000</td>\n",
              "    </tr>\n",
              "  </tbody>\n",
              "</table>\n",
              "<p>2548 rows × 2548 columns</p>\n",
              "</div>\n",
              "      <button class=\"colab-df-convert\" onclick=\"convertToInteractive('df-7d8076fb-a283-45b0-85be-dee3d14d35ba')\"\n",
              "              title=\"Convert this dataframe to an interactive table.\"\n",
              "              style=\"display:none;\">\n",
              "        \n",
              "  <svg xmlns=\"http://www.w3.org/2000/svg\" height=\"24px\"viewBox=\"0 0 24 24\"\n",
              "       width=\"24px\">\n",
              "    <path d=\"M0 0h24v24H0V0z\" fill=\"none\"/>\n",
              "    <path d=\"M18.56 5.44l.94 2.06.94-2.06 2.06-.94-2.06-.94-.94-2.06-.94 2.06-2.06.94zm-11 1L8.5 8.5l.94-2.06 2.06-.94-2.06-.94L8.5 2.5l-.94 2.06-2.06.94zm10 10l.94 2.06.94-2.06 2.06-.94-2.06-.94-.94-2.06-.94 2.06-2.06.94z\"/><path d=\"M17.41 7.96l-1.37-1.37c-.4-.4-.92-.59-1.43-.59-.52 0-1.04.2-1.43.59L10.3 9.45l-7.72 7.72c-.78.78-.78 2.05 0 2.83L4 21.41c.39.39.9.59 1.41.59.51 0 1.02-.2 1.41-.59l7.78-7.78 2.81-2.81c.8-.78.8-2.07 0-2.86zM5.41 20L4 18.59l7.72-7.72 1.47 1.35L5.41 20z\"/>\n",
              "  </svg>\n",
              "      </button>\n",
              "      \n",
              "  <style>\n",
              "    .colab-df-container {\n",
              "      display:flex;\n",
              "      flex-wrap:wrap;\n",
              "      gap: 12px;\n",
              "    }\n",
              "\n",
              "    .colab-df-convert {\n",
              "      background-color: #E8F0FE;\n",
              "      border: none;\n",
              "      border-radius: 50%;\n",
              "      cursor: pointer;\n",
              "      display: none;\n",
              "      fill: #1967D2;\n",
              "      height: 32px;\n",
              "      padding: 0 0 0 0;\n",
              "      width: 32px;\n",
              "    }\n",
              "\n",
              "    .colab-df-convert:hover {\n",
              "      background-color: #E2EBFA;\n",
              "      box-shadow: 0px 1px 2px rgba(60, 64, 67, 0.3), 0px 1px 3px 1px rgba(60, 64, 67, 0.15);\n",
              "      fill: #174EA6;\n",
              "    }\n",
              "\n",
              "    [theme=dark] .colab-df-convert {\n",
              "      background-color: #3B4455;\n",
              "      fill: #D2E3FC;\n",
              "    }\n",
              "\n",
              "    [theme=dark] .colab-df-convert:hover {\n",
              "      background-color: #434B5C;\n",
              "      box-shadow: 0px 1px 3px 1px rgba(0, 0, 0, 0.15);\n",
              "      filter: drop-shadow(0px 1px 2px rgba(0, 0, 0, 0.3));\n",
              "      fill: #FFFFFF;\n",
              "    }\n",
              "  </style>\n",
              "\n",
              "      <script>\n",
              "        const buttonEl =\n",
              "          document.querySelector('#df-7d8076fb-a283-45b0-85be-dee3d14d35ba button.colab-df-convert');\n",
              "        buttonEl.style.display =\n",
              "          google.colab.kernel.accessAllowed ? 'block' : 'none';\n",
              "\n",
              "        async function convertToInteractive(key) {\n",
              "          const element = document.querySelector('#df-7d8076fb-a283-45b0-85be-dee3d14d35ba');\n",
              "          const dataTable =\n",
              "            await google.colab.kernel.invokeFunction('convertToInteractive',\n",
              "                                                     [key], {});\n",
              "          if (!dataTable) return;\n",
              "\n",
              "          const docLinkHtml = 'Like what you see? Visit the ' +\n",
              "            '<a target=\"_blank\" href=https://colab.research.google.com/notebooks/data_table.ipynb>data table notebook</a>'\n",
              "            + ' to learn more about interactive tables.';\n",
              "          element.innerHTML = '';\n",
              "          dataTable['output_type'] = 'display_data';\n",
              "          await google.colab.output.renderOutput(dataTable, element);\n",
              "          const docLink = document.createElement('div');\n",
              "          docLink.innerHTML = docLinkHtml;\n",
              "          element.appendChild(docLink);\n",
              "        }\n",
              "      </script>\n",
              "    </div>\n",
              "  </div>\n",
              "  "
            ],
            "text/plain": [
              "            # mean_0_a  mean_1_a  mean_2_a  mean_3_a  mean_4_a  mean_d_0_a  \\\n",
              "# mean_0_a    1.000000  0.176578  0.429810  0.582697  0.178432   -0.000665   \n",
              "mean_1_a      0.176578  1.000000 -0.007202  0.571530  0.385041   -0.088608   \n",
              "mean_2_a      0.429810 -0.007202  1.000000  0.081567 -0.095696    0.015122   \n",
              "mean_3_a      0.582697  0.571530  0.081567  1.000000  0.220842   -0.117748   \n",
              "mean_4_a      0.178432  0.385041 -0.095696  0.220842  1.000000   -0.017196   \n",
              "...                ...       ...       ...       ...       ...         ...   \n",
              "fft_745_b     0.268983  0.153244  0.674195  0.103294 -0.039620    0.024944   \n",
              "fft_746_b    -0.220566 -0.096173 -0.728296 -0.061376  0.056452    0.002976   \n",
              "fft_747_b     0.196653  0.069532  0.565044  0.051216 -0.016933   -0.017169   \n",
              "fft_748_b     0.196653  0.069532  0.565044  0.051216 -0.016933   -0.017169   \n",
              "fft_749_b    -0.220566 -0.096173 -0.728296 -0.061376  0.056452    0.002976   \n",
              "\n",
              "            mean_d_1_a  mean_d_2_a  mean_d_3_a  mean_d_4_a  ...  fft_740_b  \\\n",
              "# mean_0_a    0.105961   -0.061046    0.135370    0.008472  ...   0.301672   \n",
              "mean_1_a     -0.007586   -0.050463   -0.119391   -0.017197  ...   0.130717   \n",
              "mean_2_a      0.014605   -0.004320    0.055625   -0.003564  ...   0.699461   \n",
              "mean_3_a      0.124462   -0.175592   -0.001782    0.017110  ...   0.133720   \n",
              "mean_4_a     -0.007570    0.025546   -0.033443   -0.020361  ...  -0.043602   \n",
              "...                ...         ...         ...         ...  ...        ...   \n",
              "fft_745_b    -0.043387    0.098389   -0.022019   -0.003329  ...   0.458558   \n",
              "fft_746_b    -0.001477   -0.061713    0.005671   -0.005395  ...  -0.493145   \n",
              "fft_747_b     0.003350    0.149472   -0.040408    0.003422  ...   0.375438   \n",
              "fft_748_b     0.003350    0.149472   -0.040408    0.003422  ...   0.375438   \n",
              "fft_749_b    -0.001477   -0.061713    0.005671   -0.005395  ...  -0.493145   \n",
              "\n",
              "            fft_741_b  fft_742_b  fft_743_b  fft_744_b  fft_745_b  fft_746_b  \\\n",
              "# mean_0_a  -0.245671   0.204764   0.204764  -0.245671   0.268983  -0.220566   \n",
              "mean_1_a    -0.047208   0.002549   0.002549  -0.047208   0.153244  -0.096173   \n",
              "mean_2_a    -0.742275   0.622567   0.622567  -0.742275   0.674195  -0.728296   \n",
              "mean_3_a    -0.067460   0.048202   0.048202  -0.067460   0.103294  -0.061376   \n",
              "mean_4_a     0.069458  -0.090163  -0.090163   0.069458  -0.039620   0.056452   \n",
              "...               ...        ...        ...        ...        ...        ...   \n",
              "fft_745_b   -0.431711   0.415781   0.415781  -0.431711   1.000000  -0.938696   \n",
              "fft_746_b    0.531019  -0.459876  -0.459876   0.531019  -0.938696   1.000000   \n",
              "fft_747_b   -0.355117   0.499272   0.499272  -0.355117   0.834622  -0.815108   \n",
              "fft_748_b   -0.355117   0.499272   0.499272  -0.355117   0.834622  -0.815108   \n",
              "fft_749_b    0.531019  -0.459876  -0.459876   0.531019  -0.938696   1.000000   \n",
              "\n",
              "            fft_747_b  fft_748_b  fft_749_b  \n",
              "# mean_0_a   0.196653   0.196653  -0.220566  \n",
              "mean_1_a     0.069532   0.069532  -0.096173  \n",
              "mean_2_a     0.565044   0.565044  -0.728296  \n",
              "mean_3_a     0.051216   0.051216  -0.061376  \n",
              "mean_4_a    -0.016933  -0.016933   0.056452  \n",
              "...               ...        ...        ...  \n",
              "fft_745_b    0.834622   0.834622  -0.938696  \n",
              "fft_746_b   -0.815108  -0.815108   1.000000  \n",
              "fft_747_b    1.000000   1.000000  -0.815108  \n",
              "fft_748_b    1.000000   1.000000  -0.815108  \n",
              "fft_749_b   -0.815108  -0.815108   1.000000  \n",
              "\n",
              "[2548 rows x 2548 columns]"
            ]
          },
          "execution_count": 15,
          "metadata": {},
          "output_type": "execute_result"
        }
      ],
      "source": [
        "correlations = brainwave_df.corr(method='pearson')\n",
        "correlations"
      ]
    },
    {
      "cell_type": "markdown",
      "metadata": {
        "id": "H6JJywXD69Jy"
      },
      "source": [
        "<h2 style=\"text-align:center; color:#546545;text-shadow: 2px 2px 4px #000000;\">Skew of Univariate Distributions</h2>"
      ]
    },
    {
      "cell_type": "code",
      "execution_count": null,
      "metadata": {
        "colab": {
          "base_uri": "https://localhost:8080/"
        },
        "id": "8ZYHDQN669Jz",
        "outputId": "0791c09b-d4f9-48bb-d234-dcd557c04239"
      },
      "outputs": [
        {
          "data": {
            "text/plain": [
              "# mean_0_a    3.839961\n",
              "mean_1_a     -5.400903\n",
              "mean_2_a     -1.769376\n",
              "mean_3_a      0.293842\n",
              "mean_4_a     -3.911369\n",
              "                ...   \n",
              "fft_745_b    -1.328085\n",
              "fft_746_b     1.443938\n",
              "fft_747_b     1.221094\n",
              "fft_748_b     1.221094\n",
              "fft_749_b     1.443938\n",
              "Length: 2548, dtype: float64"
            ]
          },
          "execution_count": 16,
          "metadata": {},
          "output_type": "execute_result"
        }
      ],
      "source": [
        "skew = brainwave_df.skew()\n",
        "skew"
      ]
    },
    {
      "cell_type": "markdown",
      "metadata": {
        "id": "oSWeZ0dw69J0"
      },
      "source": [
        "<h2 style=\"text-align:center; color:#546545;text-shadow: 2px 2px 4px #000000;\">RandomForest Classifier</h2>\n",
        "\n",
        "`RandomForest` is a tree & bagging approach-based ensemble classifier. It will automatically reduce the number of features by its probabilistic entropy calculation approach."
      ]
    },
    {
      "cell_type": "code",
      "execution_count": null,
      "metadata": {
        "colab": {
          "base_uri": "https://localhost:8080/"
        },
        "id": "Dl2FQjqn69J0",
        "outputId": "5de5c5d1-9aa5-4f29-f7c4-bcede1acb9f6",
        "scrolled": false
      },
      "outputs": [
        {
          "name": "stdout",
          "output_type": "stream",
          "text": [
            "Accuracy for RandomForest :  0.9868742047299375\n",
            "CPU times: user 51 s, sys: 84 ms, total: 51.1 s\n",
            "Wall time: 51.4 s\n"
          ]
        }
      ],
      "source": [
        "%%time\n",
        "\n",
        "pl_random_forest = Pipeline(steps=[('random_forest', RandomForestClassifier())])\n",
        "scores = cross_val_score(pl_random_forest, brainwave_df, label_df, cv=10,scoring='accuracy')\n",
        "print('Accuracy for RandomForest : ', scores.mean())"
      ]
    },
    {
      "cell_type": "markdown",
      "metadata": {
        "id": "T06cDbY269J1"
      },
      "source": [
        "<h2 style=\"text-align:center; color:#546545;text-shadow: 2px 2px 4px #000000;\">Logistic Regression Classifier</h2>\n",
        "\n",
        "`Logistic Regression` is a linear classifier and works in same way as linear regression."
      ]
    },
    {
      "cell_type": "code",
      "execution_count": null,
      "metadata": {
        "colab": {
          "base_uri": "https://localhost:8080/"
        },
        "id": "b5MF3-ZL69J2",
        "outputId": "e73f6ad5-41c1-4793-8f2f-5a52ffbda61f",
        "scrolled": true
      },
      "outputs": [
        {
          "output_type": "stream",
          "name": "stderr",
          "text": [
            "/usr/local/lib/python3.7/dist-packages/sklearn/linear_model/_sag.py:354: ConvergenceWarning: The max_iter was reached which means the coef_ did not converge\n",
            "  ConvergenceWarning,\n",
            "/usr/local/lib/python3.7/dist-packages/sklearn/linear_model/_sag.py:354: ConvergenceWarning: The max_iter was reached which means the coef_ did not converge\n",
            "  ConvergenceWarning,\n",
            "/usr/local/lib/python3.7/dist-packages/sklearn/linear_model/_sag.py:354: ConvergenceWarning: The max_iter was reached which means the coef_ did not converge\n",
            "  ConvergenceWarning,\n",
            "/usr/local/lib/python3.7/dist-packages/sklearn/linear_model/_sag.py:354: ConvergenceWarning: The max_iter was reached which means the coef_ did not converge\n",
            "  ConvergenceWarning,\n",
            "/usr/local/lib/python3.7/dist-packages/sklearn/linear_model/_sag.py:354: ConvergenceWarning: The max_iter was reached which means the coef_ did not converge\n",
            "  ConvergenceWarning,\n",
            "/usr/local/lib/python3.7/dist-packages/sklearn/linear_model/_sag.py:354: ConvergenceWarning: The max_iter was reached which means the coef_ did not converge\n",
            "  ConvergenceWarning,\n",
            "/usr/local/lib/python3.7/dist-packages/sklearn/linear_model/_sag.py:354: ConvergenceWarning: The max_iter was reached which means the coef_ did not converge\n",
            "  ConvergenceWarning,\n",
            "/usr/local/lib/python3.7/dist-packages/sklearn/linear_model/_sag.py:354: ConvergenceWarning: The max_iter was reached which means the coef_ did not converge\n",
            "  ConvergenceWarning,\n",
            "/usr/local/lib/python3.7/dist-packages/sklearn/linear_model/_sag.py:354: ConvergenceWarning: The max_iter was reached which means the coef_ did not converge\n",
            "  ConvergenceWarning,\n"
          ]
        },
        {
          "output_type": "stream",
          "name": "stdout",
          "text": [
            "Accuracy for Logistic Regression:  0.9324667631959983\n",
            "CPU times: user 3min 34s, sys: 1.12 s, total: 3min 35s\n",
            "Wall time: 3min 34s\n"
          ]
        },
        {
          "output_type": "stream",
          "name": "stderr",
          "text": [
            "/usr/local/lib/python3.7/dist-packages/sklearn/linear_model/_sag.py:354: ConvergenceWarning: The max_iter was reached which means the coef_ did not converge\n",
            "  ConvergenceWarning,\n"
          ]
        }
      ],
      "source": [
        "%%time\n",
        "\n",
        "pl_log_reg = Pipeline(steps=[('scaler',StandardScaler()),\n",
        "                             ('log_reg', LogisticRegression(multi_class='multinomial', solver='saga', max_iter=200))])\n",
        "scores = cross_val_score(pl_log_reg, brainwave_df, label_df, cv=10,scoring='accuracy')\n",
        "print('Accuracy for Logistic Regression: ', scores.mean())"
      ]
    },
    {
      "cell_type": "markdown",
      "metadata": {
        "id": "7N8M2UXi69J2"
      },
      "source": [
        "<h2 style=\"text-align:center; color:#546545;text-shadow: 2px 2px 4px #000000;\">Principal Component Analysis (PCA)</h2>\n",
        "\n",
        "PCA can transform original low level variables to a higher dimensional space and thus reduce the number of required variables. All co-linear variables get clubbed together."
      ]
    },
    {
      "cell_type": "code",
      "execution_count": null,
      "metadata": {
        "id": "eLRDTo_S69J3",
        "colab": {
          "base_uri": "https://localhost:8080/"
        },
        "outputId": "dd9d1440-2b8a-44c8-fcdd-04a4abad67c9"
      },
      "outputs": [
        {
          "output_type": "stream",
          "name": "stdout",
          "text": [
            "Explained Variance ratio by Principal Component  1  :  0.36772564117538703\n",
            "Explained Variance ratio by Principal Component  2  :  0.09553894257232616\n",
            "Explained Variance ratio by Principal Component  3  :  0.08436069000482477\n",
            "Explained Variance ratio by Principal Component  4  :  0.060856651819701665\n",
            "Explained Variance ratio by Principal Component  5  :  0.047453732926251546\n",
            "Explained Variance ratio by Principal Component  6  :  0.030823052518471488\n",
            "Explained Variance ratio by Principal Component  7  :  0.024721620860921265\n",
            "Explained Variance ratio by Principal Component  8  :  0.01375305507069496\n",
            "Explained Variance ratio by Principal Component  9  :  0.012408702720880321\n",
            "Explained Variance ratio by Principal Component  10  :  0.012103653572040397\n",
            "Explained Variance ratio by Principal Component  11  :  0.009557100572157914\n",
            "Explained Variance ratio by Principal Component  12  :  0.00916431102050831\n",
            "Explained Variance ratio by Principal Component  13  :  0.00874005733263408\n",
            "Explained Variance ratio by Principal Component  14  :  0.00797436192251462\n",
            "Explained Variance ratio by Principal Component  15  :  0.0070598160724231265\n",
            "Explained Variance ratio by Principal Component  16  :  0.006330683550383327\n",
            "Explained Variance ratio by Principal Component  17  :  0.005871865478884226\n",
            "Explained Variance ratio by Principal Component  18  :  0.005474312350581695\n",
            "Explained Variance ratio by Principal Component  19  :  0.005018003350163778\n",
            "Explained Variance ratio by Principal Component  20  :  0.0046596992186402455\n"
          ]
        }
      ],
      "source": [
        "scaler = StandardScaler()\n",
        "scaled_df = scaler.fit_transform(brainwave_df)\n",
        "pca = PCA(n_components = 20)\n",
        "pca_vectors = pca.fit_transform(scaled_df)\n",
        "for index, var in enumerate(pca.explained_variance_ratio_):\n",
        "    print(\"Explained Variance ratio by Principal Component \", (index+1), \" : \", var)"
      ]
    },
    {
      "cell_type": "code",
      "execution_count": null,
      "metadata": {
        "id": "6GdtHfV969J4",
        "colab": {
          "base_uri": "https://localhost:8080/",
          "height": 461
        },
        "outputId": "7a4e6139-b3cc-4b3c-b02b-327515a8146e"
      },
      "outputs": [
        {
          "output_type": "display_data",
          "data": {
            "text/plain": [
              "<Figure size 1800x576 with 1 Axes>"
            ],
            "image/png": "[encoded data removed]"
          },
          "metadata": {
            "needs_background": "light"
          }
        }
      ],
      "source": [
        "plt.figure(figsize=(25,8))\n",
        "sns.scatterplot(x=pca_vectors[:, 0], y=pca_vectors[:, 1], hue=label_df)\n",
        "plt.title('Principal Components vs Class distribution', fontsize=16)\n",
        "plt.ylabel('Principal Component 2', fontsize=16)\n",
        "plt.xlabel('Principal Component 1', fontsize=16)\n",
        "plt.xticks(rotation='vertical');"
      ]
    },
    {
      "cell_type": "markdown",
      "metadata": {
        "id": "V122wGll69J4"
      },
      "source": [
        "<h2 style=\"text-align:center; color:#546545;text-shadow: 2px 2px 4px #000000;\">Logistic Regression classifier with these two PCs</h2>"
      ]
    },
    {
      "cell_type": "code",
      "execution_count": null,
      "metadata": {
        "id": "0ECMCFoi69J5",
        "colab": {
          "base_uri": "https://localhost:8080/"
        },
        "outputId": "2c7f46b2-1e69-4d44-d1b7-f0d155068a04"
      },
      "outputs": [
        {
          "output_type": "stream",
          "name": "stderr",
          "text": [
            "/usr/local/lib/python3.7/dist-packages/sklearn/linear_model/_sag.py:354: ConvergenceWarning: The max_iter was reached which means the coef_ did not converge\n",
            "  ConvergenceWarning,\n",
            "/usr/local/lib/python3.7/dist-packages/sklearn/linear_model/_sag.py:354: ConvergenceWarning: The max_iter was reached which means the coef_ did not converge\n",
            "  ConvergenceWarning,\n",
            "/usr/local/lib/python3.7/dist-packages/sklearn/linear_model/_sag.py:354: ConvergenceWarning: The max_iter was reached which means the coef_ did not converge\n",
            "  ConvergenceWarning,\n",
            "/usr/local/lib/python3.7/dist-packages/sklearn/linear_model/_sag.py:354: ConvergenceWarning: The max_iter was reached which means the coef_ did not converge\n",
            "  ConvergenceWarning,\n",
            "/usr/local/lib/python3.7/dist-packages/sklearn/linear_model/_sag.py:354: ConvergenceWarning: The max_iter was reached which means the coef_ did not converge\n",
            "  ConvergenceWarning,\n",
            "/usr/local/lib/python3.7/dist-packages/sklearn/linear_model/_sag.py:354: ConvergenceWarning: The max_iter was reached which means the coef_ did not converge\n",
            "  ConvergenceWarning,\n",
            "/usr/local/lib/python3.7/dist-packages/sklearn/linear_model/_sag.py:354: ConvergenceWarning: The max_iter was reached which means the coef_ did not converge\n",
            "  ConvergenceWarning,\n",
            "/usr/local/lib/python3.7/dist-packages/sklearn/linear_model/_sag.py:354: ConvergenceWarning: The max_iter was reached which means the coef_ did not converge\n",
            "  ConvergenceWarning,\n",
            "/usr/local/lib/python3.7/dist-packages/sklearn/linear_model/_sag.py:354: ConvergenceWarning: The max_iter was reached which means the coef_ did not converge\n",
            "  ConvergenceWarning,\n"
          ]
        },
        {
          "output_type": "stream",
          "name": "stdout",
          "text": [
            "Accuracy for Logistic Regression with 2 Principal Components:  0.7753213987977711\n",
            "CPU times: user 8.96 s, sys: 5.57 s, total: 14.5 s\n",
            "Wall time: 8.27 s\n"
          ]
        },
        {
          "output_type": "stream",
          "name": "stderr",
          "text": [
            "/usr/local/lib/python3.7/dist-packages/sklearn/linear_model/_sag.py:354: ConvergenceWarning: The max_iter was reached which means the coef_ did not converge\n",
            "  ConvergenceWarning,\n"
          ]
        }
      ],
      "source": [
        "%%time\n",
        "pl_log_reg_pca = Pipeline(steps=[('scaler',StandardScaler()),\n",
        "                             ('pca', PCA(n_components = 2)),\n",
        "                             ('log_reg', LogisticRegression(multi_class='multinomial', solver='saga', max_iter=200))])\n",
        "scores = cross_val_score(pl_log_reg_pca, brainwave_df, label_df, cv=10,scoring='accuracy')\n",
        "print('Accuracy for Logistic Regression with 2 Principal Components: ', scores.mean())"
      ]
    },
    {
      "cell_type": "markdown",
      "metadata": {
        "id": "bNtdBt6Y69J6"
      },
      "source": [
        "<h2 style=\"text-align:center; color:#546545;text-shadow: 2px 2px 4px #000000;\">Take all 10 PCs</h2>"
      ]
    },
    {
      "cell_type": "code",
      "execution_count": null,
      "metadata": {
        "colab": {
          "base_uri": "https://localhost:8080/"
        },
        "id": "MFAKjZyp69J6",
        "outputId": "d587ee81-0318-4b89-af1b-29ca9e9afc6b"
      },
      "outputs": [
        {
          "output_type": "stream",
          "name": "stderr",
          "text": [
            "/usr/local/lib/python3.7/dist-packages/sklearn/linear_model/_sag.py:354: ConvergenceWarning: The max_iter was reached which means the coef_ did not converge\n",
            "  ConvergenceWarning,\n",
            "/usr/local/lib/python3.7/dist-packages/sklearn/linear_model/_sag.py:354: ConvergenceWarning: The max_iter was reached which means the coef_ did not converge\n",
            "  ConvergenceWarning,\n",
            "/usr/local/lib/python3.7/dist-packages/sklearn/linear_model/_sag.py:354: ConvergenceWarning: The max_iter was reached which means the coef_ did not converge\n",
            "  ConvergenceWarning,\n",
            "/usr/local/lib/python3.7/dist-packages/sklearn/linear_model/_sag.py:354: ConvergenceWarning: The max_iter was reached which means the coef_ did not converge\n",
            "  ConvergenceWarning,\n",
            "/usr/local/lib/python3.7/dist-packages/sklearn/linear_model/_sag.py:354: ConvergenceWarning: The max_iter was reached which means the coef_ did not converge\n",
            "  ConvergenceWarning,\n",
            "/usr/local/lib/python3.7/dist-packages/sklearn/linear_model/_sag.py:354: ConvergenceWarning: The max_iter was reached which means the coef_ did not converge\n",
            "  ConvergenceWarning,\n",
            "/usr/local/lib/python3.7/dist-packages/sklearn/linear_model/_sag.py:354: ConvergenceWarning: The max_iter was reached which means the coef_ did not converge\n",
            "  ConvergenceWarning,\n",
            "/usr/local/lib/python3.7/dist-packages/sklearn/linear_model/_sag.py:354: ConvergenceWarning: The max_iter was reached which means the coef_ did not converge\n",
            "  ConvergenceWarning,\n",
            "/usr/local/lib/python3.7/dist-packages/sklearn/linear_model/_sag.py:354: ConvergenceWarning: The max_iter was reached which means the coef_ did not converge\n",
            "  ConvergenceWarning,\n"
          ]
        },
        {
          "output_type": "stream",
          "name": "stdout",
          "text": [
            "Accuracy for Logistic Regression with 10 Principal Components:  0.86678513448291\n",
            "CPU times: user 10.3 s, sys: 6.09 s, total: 16.4 s\n",
            "Wall time: 9.49 s\n"
          ]
        },
        {
          "output_type": "stream",
          "name": "stderr",
          "text": [
            "/usr/local/lib/python3.7/dist-packages/sklearn/linear_model/_sag.py:354: ConvergenceWarning: The max_iter was reached which means the coef_ did not converge\n",
            "  ConvergenceWarning,\n"
          ]
        }
      ],
      "source": [
        "%%time\n",
        "\n",
        "pl_log_reg_pca_10 = Pipeline(steps=[('scaler',StandardScaler()),\n",
        "                             ('pca', PCA(n_components = 10)),\n",
        "                             ('log_reg', LogisticRegression(multi_class='multinomial', solver='saga', max_iter=200))])\n",
        "scores = cross_val_score(pl_log_reg_pca_10, brainwave_df, label_df, cv=10,scoring='accuracy')\n",
        "print('Accuracy for Logistic Regression with 10 Principal Components: ', scores.mean())"
      ]
    },
    {
      "cell_type": "markdown",
      "metadata": {
        "id": "chpVSu8M69J9"
      },
      "source": [
        "<h2 style=\"text-align:center; color:#546545;text-shadow: 2px 2px 4px #000000;\">Linear Support Vector Machines Classifier (SVM)</h2>"
      ]
    },
    {
      "cell_type": "code",
      "execution_count": null,
      "metadata": {
        "id": "iJZT1flP69J-",
        "colab": {
          "base_uri": "https://localhost:8080/"
        },
        "outputId": "6278bf61-18e1-448a-bf1a-3caf578a3f23"
      },
      "outputs": [
        {
          "output_type": "stream",
          "name": "stderr",
          "text": [
            "/usr/local/lib/python3.7/dist-packages/sklearn/svm/_base.py:1208: ConvergenceWarning: Liblinear failed to converge, increase the number of iterations.\n",
            "  ConvergenceWarning,\n",
            "/usr/local/lib/python3.7/dist-packages/sklearn/svm/_base.py:1208: ConvergenceWarning: Liblinear failed to converge, increase the number of iterations.\n",
            "  ConvergenceWarning,\n",
            "/usr/local/lib/python3.7/dist-packages/sklearn/svm/_base.py:1208: ConvergenceWarning: Liblinear failed to converge, increase the number of iterations.\n",
            "  ConvergenceWarning,\n",
            "/usr/local/lib/python3.7/dist-packages/sklearn/svm/_base.py:1208: ConvergenceWarning: Liblinear failed to converge, increase the number of iterations.\n",
            "  ConvergenceWarning,\n",
            "/usr/local/lib/python3.7/dist-packages/sklearn/svm/_base.py:1208: ConvergenceWarning: Liblinear failed to converge, increase the number of iterations.\n",
            "  ConvergenceWarning,\n",
            "/usr/local/lib/python3.7/dist-packages/sklearn/svm/_base.py:1208: ConvergenceWarning: Liblinear failed to converge, increase the number of iterations.\n",
            "  ConvergenceWarning,\n",
            "/usr/local/lib/python3.7/dist-packages/sklearn/svm/_base.py:1208: ConvergenceWarning: Liblinear failed to converge, increase the number of iterations.\n",
            "  ConvergenceWarning,\n",
            "/usr/local/lib/python3.7/dist-packages/sklearn/svm/_base.py:1208: ConvergenceWarning: Liblinear failed to converge, increase the number of iterations.\n",
            "  ConvergenceWarning,\n",
            "/usr/local/lib/python3.7/dist-packages/sklearn/svm/_base.py:1208: ConvergenceWarning: Liblinear failed to converge, increase the number of iterations.\n",
            "  ConvergenceWarning,\n"
          ]
        },
        {
          "output_type": "stream",
          "name": "stdout",
          "text": [
            "Accuracy for Linear SVM :  0.9657693826510465\n",
            "CPU times: user 1min 8s, sys: 915 ms, total: 1min 9s\n",
            "Wall time: 1min 7s\n"
          ]
        },
        {
          "output_type": "stream",
          "name": "stderr",
          "text": [
            "/usr/local/lib/python3.7/dist-packages/sklearn/svm/_base.py:1208: ConvergenceWarning: Liblinear failed to converge, increase the number of iterations.\n",
            "  ConvergenceWarning,\n"
          ]
        }
      ],
      "source": [
        "%%time\n",
        "\n",
        "pl_svm = Pipeline(steps=[('scaler',StandardScaler()),\n",
        "                             ('pl_svm', LinearSVC())])\n",
        "scores = cross_val_score(pl_svm, brainwave_df, label_df, cv=10,scoring='accuracy')\n",
        "print('Accuracy for Linear SVM : ', scores.mean())"
      ]
    },
    {
      "cell_type": "markdown",
      "metadata": {
        "id": "8KCvMwHO69J-"
      },
      "source": [
        "<h2 style=\"text-align:center; color:#546545;text-shadow: 2px 2px 4px #000000;\">Extreme Gradient Boosting Classifier (XGBoost)</h2>\n",
        "\n",
        "XGBoost is a boosted tree based ensemble classifier. Like ‘RandomForest’, it will also automatically reduce the feature set."
      ]
    },
    {
      "cell_type": "code",
      "execution_count": null,
      "metadata": {
        "id": "dgbLkRfq69J_",
        "colab": {
          "base_uri": "https://localhost:8080/"
        },
        "outputId": "535acf0c-5088-4f94-8935-e5818cbd4b96"
      },
      "outputs": [
        {
          "output_type": "stream",
          "name": "stdout",
          "text": [
            "Accuracy for XGBoost Classifier :  0.9939032951603703\n",
            "CPU times: user 12min 57s, sys: 99.5 ms, total: 12min 57s\n",
            "Wall time: 12min 52s\n"
          ]
        }
      ],
      "source": [
        "%%time\n",
        "pl_xgb = Pipeline(steps=\n",
        "                  [('xgboost', xgb.XGBClassifier(objective='multi:softmax'))])\n",
        "scores = cross_val_score(pl_xgb, brainwave_df, label_df, cv=10)\n",
        "print('Accuracy for XGBoost Classifier : ', scores.mean())"
      ]
    },
    {
      "cell_type": "code",
      "source": [
        "mode = ['Random Forest', 'Logistic Regression', 'Logistic Regression with PCA (10)', 'SVM', 'XGBoost']\n",
        "scorre = [98.69, 93.24, 86.68, 96.58, 99.39]"
      ],
      "metadata": {
        "id": "IcHHIw1RZo9K"
      },
      "execution_count": null,
      "outputs": []
    },
    {
      "cell_type": "code",
      "execution_count": null,
      "metadata": {
        "id": "R3nh_vngbBRh",
        "colab": {
          "base_uri": "https://localhost:8080/",
          "height": 206
        },
        "outputId": "22af45dd-15d7-49a5-a54e-7401295224bb"
      },
      "outputs": [
        {
          "output_type": "execute_result",
          "data": {
            "text/plain": [
              "                                   Accuracy\n",
              "Random Forest                         98.69\n",
              "Logistic Regression                   93.24\n",
              "Logistic Regression with PCA (10)     86.68\n",
              "SVM                                   96.58\n",
              "XGBoost                               99.39"
            ],
            "text/html": [
              "\n",
              "  <div id=\"df-1458300e-7a8f-488d-a004-38665430cb55\">\n",
              "    <div class=\"colab-df-container\">\n",
              "      <div>\n",
              "<style scoped>\n",
              "    .dataframe tbody tr th:only-of-type {\n",
              "        vertical-align: middle;\n",
              "    }\n",
              "\n",
              "    .dataframe tbody tr th {\n",
              "        vertical-align: top;\n",
              "    }\n",
              "\n",
              "    .dataframe thead th {\n",
              "        text-align: right;\n",
              "    }\n",
              "</style>\n",
              "<table border=\"1\" class=\"dataframe\">\n",
              "  <thead>\n",
              "    <tr style=\"text-align: right;\">\n",
              "      <th></th>\n",
              "      <th>Accuracy</th>\n",
              "    </tr>\n",
              "  </thead>\n",
              "  <tbody>\n",
              "    <tr>\n",
              "      <th>Random Forest</th>\n",
              "      <td>98.69</td>\n",
              "    </tr>\n",
              "    <tr>\n",
              "      <th>Logistic Regression</th>\n",
              "      <td>93.24</td>\n",
              "    </tr>\n",
              "    <tr>\n",
              "      <th>Logistic Regression with PCA (10)</th>\n",
              "      <td>86.68</td>\n",
              "    </tr>\n",
              "    <tr>\n",
              "      <th>SVM</th>\n",
              "      <td>96.58</td>\n",
              "    </tr>\n",
              "    <tr>\n",
              "      <th>XGBoost</th>\n",
              "      <td>99.39</td>\n",
              "    </tr>\n",
              "  </tbody>\n",
              "</table>\n",
              "</div>\n",
              "      <button class=\"colab-df-convert\" onclick=\"convertToInteractive('df-1458300e-7a8f-488d-a004-38665430cb55')\"\n",
              "              title=\"Convert this dataframe to an interactive table.\"\n",
              "              style=\"display:none;\">\n",
              "        \n",
              "  <svg xmlns=\"http://www.w3.org/2000/svg\" height=\"24px\"viewBox=\"0 0 24 24\"\n",
              "       width=\"24px\">\n",
              "    <path d=\"M0 0h24v24H0V0z\" fill=\"none\"/>\n",
              "    <path d=\"M18.56 5.44l.94 2.06.94-2.06 2.06-.94-2.06-.94-.94-2.06-.94 2.06-2.06.94zm-11 1L8.5 8.5l.94-2.06 2.06-.94-2.06-.94L8.5 2.5l-.94 2.06-2.06.94zm10 10l.94 2.06.94-2.06 2.06-.94-2.06-.94-.94-2.06-.94 2.06-2.06.94z\"/><path d=\"M17.41 7.96l-1.37-1.37c-.4-.4-.92-.59-1.43-.59-.52 0-1.04.2-1.43.59L10.3 9.45l-7.72 7.72c-.78.78-.78 2.05 0 2.83L4 21.41c.39.39.9.59 1.41.59.51 0 1.02-.2 1.41-.59l7.78-7.78 2.81-2.81c.8-.78.8-2.07 0-2.86zM5.41 20L4 18.59l7.72-7.72 1.47 1.35L5.41 20z\"/>\n",
              "  </svg>\n",
              "      </button>\n",
              "      \n",
              "  <style>\n",
              "    .colab-df-container {\n",
              "      display:flex;\n",
              "      flex-wrap:wrap;\n",
              "      gap: 12px;\n",
              "    }\n",
              "\n",
              "    .colab-df-convert {\n",
              "      background-color: #E8F0FE;\n",
              "      border: none;\n",
              "      border-radius: 50%;\n",
              "      cursor: pointer;\n",
              "      display: none;\n",
              "      fill: #1967D2;\n",
              "      height: 32px;\n",
              "      padding: 0 0 0 0;\n",
              "      width: 32px;\n",
              "    }\n",
              "\n",
              "    .colab-df-convert:hover {\n",
              "      background-color: #E2EBFA;\n",
              "      box-shadow: 0px 1px 2px rgba(60, 64, 67, 0.3), 0px 1px 3px 1px rgba(60, 64, 67, 0.15);\n",
              "      fill: #174EA6;\n",
              "    }\n",
              "\n",
              "    [theme=dark] .colab-df-convert {\n",
              "      background-color: #3B4455;\n",
              "      fill: #D2E3FC;\n",
              "    }\n",
              "\n",
              "    [theme=dark] .colab-df-convert:hover {\n",
              "      background-color: #434B5C;\n",
              "      box-shadow: 0px 1px 3px 1px rgba(0, 0, 0, 0.15);\n",
              "      filter: drop-shadow(0px 1px 2px rgba(0, 0, 0, 0.3));\n",
              "      fill: #FFFFFF;\n",
              "    }\n",
              "  </style>\n",
              "\n",
              "      <script>\n",
              "        const buttonEl =\n",
              "          document.querySelector('#df-1458300e-7a8f-488d-a004-38665430cb55 button.colab-df-convert');\n",
              "        buttonEl.style.display =\n",
              "          google.colab.kernel.accessAllowed ? 'block' : 'none';\n",
              "\n",
              "        async function convertToInteractive(key) {\n",
              "          const element = document.querySelector('#df-1458300e-7a8f-488d-a004-38665430cb55');\n",
              "          const dataTable =\n",
              "            await google.colab.kernel.invokeFunction('convertToInteractive',\n",
              "                                                     [key], {});\n",
              "          if (!dataTable) return;\n",
              "\n",
              "          const docLinkHtml = 'Like what you see? Visit the ' +\n",
              "            '<a target=\"_blank\" href=https://colab.research.google.com/notebooks/data_table.ipynb>data table notebook</a>'\n",
              "            + ' to learn more about interactive tables.';\n",
              "          element.innerHTML = '';\n",
              "          dataTable['output_type'] = 'display_data';\n",
              "          await google.colab.output.renderOutput(dataTable, element);\n",
              "          const docLink = document.createElement('div');\n",
              "          docLink.innerHTML = docLinkHtml;\n",
              "          element.appendChild(docLink);\n",
              "        }\n",
              "      </script>\n",
              "    </div>\n",
              "  </div>\n",
              "  "
            ]
          },
          "metadata": {},
          "execution_count": 51
        }
      ],
      "source": [
        "df1 = pd.DataFrame({'Accuracy':scorre}, index = mode)\n",
        "df1"
      ]
    },
    {
      "cell_type": "markdown",
      "metadata": {
        "id": "6mVMCWVlbL6P"
      },
      "source": [
        "# GRU"
      ]
    },
    {
      "cell_type": "code",
      "source": [
        "import numpy as np\n",
        "import pandas as pd\n",
        "import tensorflow as tf\n",
        "from tensorflow.keras import Sequential\n",
        "\n",
        "from tensorflow.keras.layers import Dense, Dropout\n",
        "from tensorflow.keras.layers import Embedding, Flatten\n",
        "from tensorflow.keras.layers import LSTM\n",
        "from tensorflow.keras.callbacks import EarlyStopping, ModelCheckpoint\n",
        "from tensorflow.keras.models import Sequential, Model, load_model"
      ],
      "metadata": {
        "id": "56qMHb58IAvp"
      },
      "execution_count": null,
      "outputs": []
    },
    {
      "cell_type": "code",
      "execution_count": null,
      "metadata": {
        "id": "D85XxvOVbNFl",
        "colab": {
          "base_uri": "https://localhost:8080/",
          "height": 317
        },
        "outputId": "91adc3bd-3858-4479-b0a0-af2f46c28661"
      },
      "outputs": [
        {
          "output_type": "execute_result",
          "data": {
            "text/plain": [
              "   # mean_0_a  mean_1_a  mean_2_a  mean_3_a  mean_4_a  mean_d_0_a  mean_d_1_a  \\\n",
              "0        4.62      30.3    -356.0      15.6      26.3       1.070       0.411   \n",
              "1       28.80      33.1      32.0      25.8      22.8       6.550       1.680   \n",
              "2        8.90      29.4    -416.0      16.7      23.7      79.900       3.360   \n",
              "3       14.90      31.6    -143.0      19.8      24.3      -0.584      -0.284   \n",
              "4       28.30      31.3      45.2      27.3      24.5      34.800      -5.790   \n",
              "\n",
              "   mean_d_2_a  mean_d_3_a  mean_d_4_a  ...  fft_741_b  fft_742_b  fft_743_b  \\\n",
              "0      -15.70        2.06        3.15  ...       23.5       20.3       20.3   \n",
              "1        2.88        3.83       -4.82  ...      -23.3      -21.8      -21.8   \n",
              "2       90.20       89.90        2.03  ...      462.0     -233.0     -233.0   \n",
              "3        8.82        2.30       -1.97  ...      299.0     -243.0     -243.0   \n",
              "4        3.06       41.40        5.52  ...       12.0       38.1       38.1   \n",
              "\n",
              "   fft_744_b  fft_745_b  fft_746_b  fft_747_b  fft_748_b  fft_749_b     label  \n",
              "0       23.5     -215.0     280.00    -162.00    -162.00     280.00  NEGATIVE  \n",
              "1      -23.3      182.0       2.57     -31.60     -31.60       2.57   NEUTRAL  \n",
              "2      462.0     -267.0     281.00    -148.00    -148.00     281.00  POSITIVE  \n",
              "3      299.0      132.0     -12.40       9.53       9.53     -12.40  POSITIVE  \n",
              "4       12.0      119.0     -17.60      23.90      23.90     -17.60   NEUTRAL  \n",
              "\n",
              "[5 rows x 2549 columns]"
            ],
            "text/html": [
              "\n",
              "  <div id=\"df-39fcc886-cf75-4324-ba33-ec5e6a014237\">\n",
              "    <div class=\"colab-df-container\">\n",
              "      <div>\n",
              "<style scoped>\n",
              "    .dataframe tbody tr th:only-of-type {\n",
              "        vertical-align: middle;\n",
              "    }\n",
              "\n",
              "    .dataframe tbody tr th {\n",
              "        vertical-align: top;\n",
              "    }\n",
              "\n",
              "    .dataframe thead th {\n",
              "        text-align: right;\n",
              "    }\n",
              "</style>\n",
              "<table border=\"1\" class=\"dataframe\">\n",
              "  <thead>\n",
              "    <tr style=\"text-align: right;\">\n",
              "      <th></th>\n",
              "      <th># mean_0_a</th>\n",
              "      <th>mean_1_a</th>\n",
              "      <th>mean_2_a</th>\n",
              "      <th>mean_3_a</th>\n",
              "      <th>mean_4_a</th>\n",
              "      <th>mean_d_0_a</th>\n",
              "      <th>mean_d_1_a</th>\n",
              "      <th>mean_d_2_a</th>\n",
              "      <th>mean_d_3_a</th>\n",
              "      <th>mean_d_4_a</th>\n",
              "      <th>...</th>\n",
              "      <th>fft_741_b</th>\n",
              "      <th>fft_742_b</th>\n",
              "      <th>fft_743_b</th>\n",
              "      <th>fft_744_b</th>\n",
              "      <th>fft_745_b</th>\n",
              "      <th>fft_746_b</th>\n",
              "      <th>fft_747_b</th>\n",
              "      <th>fft_748_b</th>\n",
              "      <th>fft_749_b</th>\n",
              "      <th>label</th>\n",
              "    </tr>\n",
              "  </thead>\n",
              "  <tbody>\n",
              "    <tr>\n",
              "      <th>0</th>\n",
              "      <td>4.62</td>\n",
              "      <td>30.3</td>\n",
              "      <td>-356.0</td>\n",
              "      <td>15.6</td>\n",
              "      <td>26.3</td>\n",
              "      <td>1.070</td>\n",
              "      <td>0.411</td>\n",
              "      <td>-15.70</td>\n",
              "      <td>2.06</td>\n",
              "      <td>3.15</td>\n",
              "      <td>...</td>\n",
              "      <td>23.5</td>\n",
              "      <td>20.3</td>\n",
              "      <td>20.3</td>\n",
              "      <td>23.5</td>\n",
              "      <td>-215.0</td>\n",
              "      <td>280.00</td>\n",
              "      <td>-162.00</td>\n",
              "      <td>-162.00</td>\n",
              "      <td>280.00</td>\n",
              "      <td>NEGATIVE</td>\n",
              "    </tr>\n",
              "    <tr>\n",
              "      <th>1</th>\n",
              "      <td>28.80</td>\n",
              "      <td>33.1</td>\n",
              "      <td>32.0</td>\n",
              "      <td>25.8</td>\n",
              "      <td>22.8</td>\n",
              "      <td>6.550</td>\n",
              "      <td>1.680</td>\n",
              "      <td>2.88</td>\n",
              "      <td>3.83</td>\n",
              "      <td>-4.82</td>\n",
              "      <td>...</td>\n",
              "      <td>-23.3</td>\n",
              "      <td>-21.8</td>\n",
              "      <td>-21.8</td>\n",
              "      <td>-23.3</td>\n",
              "      <td>182.0</td>\n",
              "      <td>2.57</td>\n",
              "      <td>-31.60</td>\n",
              "      <td>-31.60</td>\n",
              "      <td>2.57</td>\n",
              "      <td>NEUTRAL</td>\n",
              "    </tr>\n",
              "    <tr>\n",
              "      <th>2</th>\n",
              "      <td>8.90</td>\n",
              "      <td>29.4</td>\n",
              "      <td>-416.0</td>\n",
              "      <td>16.7</td>\n",
              "      <td>23.7</td>\n",
              "      <td>79.900</td>\n",
              "      <td>3.360</td>\n",
              "      <td>90.20</td>\n",
              "      <td>89.90</td>\n",
              "      <td>2.03</td>\n",
              "      <td>...</td>\n",
              "      <td>462.0</td>\n",
              "      <td>-233.0</td>\n",
              "      <td>-233.0</td>\n",
              "      <td>462.0</td>\n",
              "      <td>-267.0</td>\n",
              "      <td>281.00</td>\n",
              "      <td>-148.00</td>\n",
              "      <td>-148.00</td>\n",
              "      <td>281.00</td>\n",
              "      <td>POSITIVE</td>\n",
              "    </tr>\n",
              "    <tr>\n",
              "      <th>3</th>\n",
              "      <td>14.90</td>\n",
              "      <td>31.6</td>\n",
              "      <td>-143.0</td>\n",
              "      <td>19.8</td>\n",
              "      <td>24.3</td>\n",
              "      <td>-0.584</td>\n",
              "      <td>-0.284</td>\n",
              "      <td>8.82</td>\n",
              "      <td>2.30</td>\n",
              "      <td>-1.97</td>\n",
              "      <td>...</td>\n",
              "      <td>299.0</td>\n",
              "      <td>-243.0</td>\n",
              "      <td>-243.0</td>\n",
              "      <td>299.0</td>\n",
              "      <td>132.0</td>\n",
              "      <td>-12.40</td>\n",
              "      <td>9.53</td>\n",
              "      <td>9.53</td>\n",
              "      <td>-12.40</td>\n",
              "      <td>POSITIVE</td>\n",
              "    </tr>\n",
              "    <tr>\n",
              "      <th>4</th>\n",
              "      <td>28.30</td>\n",
              "      <td>31.3</td>\n",
              "      <td>45.2</td>\n",
              "      <td>27.3</td>\n",
              "      <td>24.5</td>\n",
              "      <td>34.800</td>\n",
              "      <td>-5.790</td>\n",
              "      <td>3.06</td>\n",
              "      <td>41.40</td>\n",
              "      <td>5.52</td>\n",
              "      <td>...</td>\n",
              "      <td>12.0</td>\n",
              "      <td>38.1</td>\n",
              "      <td>38.1</td>\n",
              "      <td>12.0</td>\n",
              "      <td>119.0</td>\n",
              "      <td>-17.60</td>\n",
              "      <td>23.90</td>\n",
              "      <td>23.90</td>\n",
              "      <td>-17.60</td>\n",
              "      <td>NEUTRAL</td>\n",
              "    </tr>\n",
              "  </tbody>\n",
              "</table>\n",
              "<p>5 rows × 2549 columns</p>\n",
              "</div>\n",
              "      <button class=\"colab-df-convert\" onclick=\"convertToInteractive('df-39fcc886-cf75-4324-ba33-ec5e6a014237')\"\n",
              "              title=\"Convert this dataframe to an interactive table.\"\n",
              "              style=\"display:none;\">\n",
              "        \n",
              "  <svg xmlns=\"http://www.w3.org/2000/svg\" height=\"24px\"viewBox=\"0 0 24 24\"\n",
              "       width=\"24px\">\n",
              "    <path d=\"M0 0h24v24H0V0z\" fill=\"none\"/>\n",
              "    <path d=\"M18.56 5.44l.94 2.06.94-2.06 2.06-.94-2.06-.94-.94-2.06-.94 2.06-2.06.94zm-11 1L8.5 8.5l.94-2.06 2.06-.94-2.06-.94L8.5 2.5l-.94 2.06-2.06.94zm10 10l.94 2.06.94-2.06 2.06-.94-2.06-.94-.94-2.06-.94 2.06-2.06.94z\"/><path d=\"M17.41 7.96l-1.37-1.37c-.4-.4-.92-.59-1.43-.59-.52 0-1.04.2-1.43.59L10.3 9.45l-7.72 7.72c-.78.78-.78 2.05 0 2.83L4 21.41c.39.39.9.59 1.41.59.51 0 1.02-.2 1.41-.59l7.78-7.78 2.81-2.81c.8-.78.8-2.07 0-2.86zM5.41 20L4 18.59l7.72-7.72 1.47 1.35L5.41 20z\"/>\n",
              "  </svg>\n",
              "      </button>\n",
              "      \n",
              "  <style>\n",
              "    .colab-df-container {\n",
              "      display:flex;\n",
              "      flex-wrap:wrap;\n",
              "      gap: 12px;\n",
              "    }\n",
              "\n",
              "    .colab-df-convert {\n",
              "      background-color: #E8F0FE;\n",
              "      border: none;\n",
              "      border-radius: 50%;\n",
              "      cursor: pointer;\n",
              "      display: none;\n",
              "      fill: #1967D2;\n",
              "      height: 32px;\n",
              "      padding: 0 0 0 0;\n",
              "      width: 32px;\n",
              "    }\n",
              "\n",
              "    .colab-df-convert:hover {\n",
              "      background-color: #E2EBFA;\n",
              "      box-shadow: 0px 1px 2px rgba(60, 64, 67, 0.3), 0px 1px 3px 1px rgba(60, 64, 67, 0.15);\n",
              "      fill: #174EA6;\n",
              "    }\n",
              "\n",
              "    [theme=dark] .colab-df-convert {\n",
              "      background-color: #3B4455;\n",
              "      fill: #D2E3FC;\n",
              "    }\n",
              "\n",
              "    [theme=dark] .colab-df-convert:hover {\n",
              "      background-color: #434B5C;\n",
              "      box-shadow: 0px 1px 3px 1px rgba(0, 0, 0, 0.15);\n",
              "      filter: drop-shadow(0px 1px 2px rgba(0, 0, 0, 0.3));\n",
              "      fill: #FFFFFF;\n",
              "    }\n",
              "  </style>\n",
              "\n",
              "      <script>\n",
              "        const buttonEl =\n",
              "          document.querySelector('#df-39fcc886-cf75-4324-ba33-ec5e6a014237 button.colab-df-convert');\n",
              "        buttonEl.style.display =\n",
              "          google.colab.kernel.accessAllowed ? 'block' : 'none';\n",
              "\n",
              "        async function convertToInteractive(key) {\n",
              "          const element = document.querySelector('#df-39fcc886-cf75-4324-ba33-ec5e6a014237');\n",
              "          const dataTable =\n",
              "            await google.colab.kernel.invokeFunction('convertToInteractive',\n",
              "                                                     [key], {});\n",
              "          if (!dataTable) return;\n",
              "\n",
              "          const docLinkHtml = 'Like what you see? Visit the ' +\n",
              "            '<a target=\"_blank\" href=https://colab.research.google.com/notebooks/data_table.ipynb>data table notebook</a>'\n",
              "            + ' to learn more about interactive tables.';\n",
              "          element.innerHTML = '';\n",
              "          dataTable['output_type'] = 'display_data';\n",
              "          await google.colab.output.renderOutput(dataTable, element);\n",
              "          const docLink = document.createElement('div');\n",
              "          docLink.innerHTML = docLinkHtml;\n",
              "          element.appendChild(docLink);\n",
              "        }\n",
              "      </script>\n",
              "    </div>\n",
              "  </div>\n",
              "  "
            ]
          },
          "metadata": {},
          "execution_count": 15
        }
      ],
      "source": [
        "data=pd.read_csv('emotions.csv')\n",
        "data.head()"
      ]
    },
    {
      "cell_type": "code",
      "execution_count": null,
      "metadata": {
        "id": "J-RiAH6sboYw"
      },
      "outputs": [],
      "source": [
        "fft_data = data.loc[:,'fft_0_b':'fft_749_b']"
      ]
    },
    {
      "cell_type": "code",
      "source": [
        "fft_data.iloc[0,:].plot(figsize=(15,10))"
      ],
      "metadata": {
        "colab": {
          "base_uri": "https://localhost:8080/",
          "height": 609
        },
        "id": "3G4i3qd3IaqV",
        "outputId": "e29fbc09-0cd1-47f4-9f1c-9ff39acc2df5"
      },
      "execution_count": null,
      "outputs": [
        {
          "output_type": "execute_result",
          "data": {
            "text/plain": [
              "<matplotlib.axes._subplots.AxesSubplot at 0x7f8b1c925050>"
            ]
          },
          "metadata": {},
          "execution_count": 17
        },
        {
          "output_type": "display_data",
          "data": {
            "text/plain": [
              "<Figure size 1080x720 with 1 Axes>"
            ],
            "image/png": "[encoded data removed]"
          },
          "metadata": {
            "needs_background": "light"
          }
        }
      ]
    },
    {
      "cell_type": "code",
      "source": [
        "from sklearn.preprocessing import LabelEncoder\n",
        "le = LabelEncoder()\n",
        "data['label']=le.fit_transform(data['label'])"
      ],
      "metadata": {
        "id": "B279OKbfIcSS"
      },
      "execution_count": null,
      "outputs": []
    },
    {
      "cell_type": "code",
      "source": [
        "y = data.pop('label')\n",
        "X = data\n",
        "X_train, X_test, y_train, y_test = train_test_split(X, y, train_size=0.7, random_state=48)\n",
        "X_train = np.array(X_train).reshape((X_train.shape[0],X_train.shape[1],1))\n",
        "X_test = np.array(X_test).reshape((X_test.shape[0],X_test.shape[1],1))\n",
        "\n",
        "X_train = X_train.astype('float32')\n",
        "X_train /= 255\n",
        "X_test = X_test.astype('float32')\n",
        "X_test /= 255\n",
        "\n",
        "y_train = pd.get_dummies(y_train)\n",
        "y_test = pd.get_dummies(y_test)"
      ],
      "metadata": {
        "id": "p01-d-xWIgAa"
      },
      "execution_count": null,
      "outputs": []
    },
    {
      "cell_type": "code",
      "source": [
        "inputs = tf.keras.Input(shape=(X_train.shape[1],1))\n",
        "\n",
        "gru = tf.keras.layers.GRU(256, return_sequences=True)(inputs)\n",
        "flat = Flatten()(gru)\n",
        "outputs = Dense(3, activation='softmax')(flat)\n",
        "\n",
        "model = tf.keras.Model(inputs, outputs)\n",
        "\n",
        "model.summary()"
      ],
      "metadata": {
        "colab": {
          "base_uri": "https://localhost:8080/"
        },
        "id": "oTI9X_dXIhTK",
        "outputId": "3ee04591-7e6c-462d-8901-c0138bc34e9f"
      },
      "execution_count": null,
      "outputs": [
        {
          "output_type": "stream",
          "name": "stdout",
          "text": [
            "Model: \"model\"\n",
            "_________________________________________________________________\n",
            " Layer (type)                Output Shape              Param #   \n",
            "=================================================================\n",
            " input_1 (InputLayer)        [(None, 2548, 1)]         0         \n",
            "                                                                 \n",
            " gru (GRU)                   (None, 2548, 256)         198912    \n",
            "                                                                 \n",
            " flatten (Flatten)           (None, 652288)            0         \n",
            "                                                                 \n",
            " dense (Dense)               (None, 3)                 1956867   \n",
            "                                                                 \n",
            "=================================================================\n",
            "Total params: 2,155,779\n",
            "Trainable params: 2,155,779\n",
            "Non-trainable params: 0\n",
            "_________________________________________________________________\n"
          ]
        }
      ]
    },
    {
      "cell_type": "code",
      "source": [
        "tf.keras.utils.plot_model(model)"
      ],
      "metadata": {
        "colab": {
          "base_uri": "https://localhost:8080/",
          "height": 369
        },
        "id": "KeYnAQwnI97O",
        "outputId": "fcb90d35-3d1f-43e8-ed66-c58845e8a7aa"
      },
      "execution_count": null,
      "outputs": [
        {
          "output_type": "execute_result",
          "data": {
            "text/plain": [
              "<IPython.core.display.Image object>"
            ],
            "image/png": "[encoded data removed]"
          },
          "metadata": {},
          "execution_count": 22
        }
      ]
    },
    {
      "cell_type": "code",
      "source": [
        "def train_model(model,x_train, y_train,x_test,y_test, save_to, epoch = 2):\n",
        "\n",
        "        opt_adam = tf.keras.optimizers.Adam(learning_rate=0.001)\n",
        "\n",
        "        es = EarlyStopping(monitor='val_loss', mode='min', verbose=1, patience=10)\n",
        "        mc = ModelCheckpoint(save_to + '_best_model.h5', monitor='val_accuracy', mode='max', verbose=1, save_best_only=True)\n",
        "        lr_schedule = tf.keras.callbacks.LearningRateScheduler(lambda epoch: 0.001 * np.exp(-epoch / 10.))\n",
        "\n",
        "        model.compile(optimizer=opt_adam,\n",
        "                  loss=['categorical_crossentropy'],\n",
        "                  metrics=['accuracy'])\n",
        "\n",
        "        history = model.fit(x_train,y_train,\n",
        "                        batch_size=32,\n",
        "                        epochs=epoch,\n",
        "                        validation_data=(x_test,y_test),\n",
        "                        callbacks=[es,mc,lr_schedule])\n",
        "\n",
        "        saved_model = load_model(save_to + '_best_model.h5')\n",
        "\n",
        "        return model,history"
      ],
      "metadata": {
        "id": "qXVUd4yiJKTS"
      },
      "execution_count": null,
      "outputs": []
    },
    {
      "cell_type": "code",
      "source": [
        "model,history = train_model(model, X_train, y_train,X_test, y_test, save_to= './', epoch = 40)"
      ],
      "metadata": {
        "colab": {
          "base_uri": "https://localhost:8080/"
        },
        "id": "BqjZHWb1JwWM",
        "outputId": "4a1294f0-17ba-40e6-dce7-af9d65c6a6f7"
      },
      "execution_count": null,
      "outputs": [
        {
          "output_type": "stream",
          "name": "stdout",
          "text": [
            "Epoch 1/40\n",
            "47/47 [==============================] - ETA: 0s - loss: 3.9549 - accuracy: 0.7942\n",
            "Epoch 1: val_accuracy improved from -inf to 0.83594, saving model to ./_best_model.h5\n",
            "47/47 [==============================] - 33s 572ms/step - loss: 3.9549 - accuracy: 0.7942 - val_loss: 1.2219 - val_accuracy: 0.8359 - lr: 0.0010\n",
            "Epoch 2/40\n",
            "47/47 [==============================] - ETA: 0s - loss: 0.7541 - accuracy: 0.9229\n",
            "Epoch 2: val_accuracy improved from 0.83594 to 0.93437, saving model to ./_best_model.h5\n",
            "47/47 [==============================] - 26s 561ms/step - loss: 0.7541 - accuracy: 0.9229 - val_loss: 0.8154 - val_accuracy: 0.9344 - lr: 9.0484e-04\n",
            "Epoch 3/40\n",
            "47/47 [==============================] - ETA: 0s - loss: 0.2939 - accuracy: 0.9497\n",
            "Epoch 3: val_accuracy improved from 0.93437 to 0.94531, saving model to ./_best_model.h5\n",
            "47/47 [==============================] - 26s 562ms/step - loss: 0.2939 - accuracy: 0.9497 - val_loss: 0.5427 - val_accuracy: 0.9453 - lr: 8.1873e-04\n",
            "Epoch 4/40\n",
            "47/47 [==============================] - ETA: 0s - loss: 0.0935 - accuracy: 0.9786\n",
            "Epoch 4: val_accuracy improved from 0.94531 to 0.95000, saving model to ./_best_model.h5\n",
            "47/47 [==============================] - 26s 561ms/step - loss: 0.0935 - accuracy: 0.9786 - val_loss: 0.4820 - val_accuracy: 0.9500 - lr: 7.4082e-04\n",
            "Epoch 5/40\n",
            "47/47 [==============================] - ETA: 0s - loss: 0.0536 - accuracy: 0.9866\n",
            "Epoch 5: val_accuracy did not improve from 0.95000\n",
            "47/47 [==============================] - 26s 559ms/step - loss: 0.0536 - accuracy: 0.9866 - val_loss: 0.5978 - val_accuracy: 0.9297 - lr: 6.7032e-04\n",
            "Epoch 6/40\n",
            "47/47 [==============================] - ETA: 0s - loss: 0.1433 - accuracy: 0.9712\n",
            "Epoch 6: val_accuracy did not improve from 0.95000\n",
            "47/47 [==============================] - 26s 560ms/step - loss: 0.1433 - accuracy: 0.9712 - val_loss: 0.7288 - val_accuracy: 0.9391 - lr: 6.0653e-04\n",
            "Epoch 7/40\n",
            "47/47 [==============================] - ETA: 0s - loss: 0.0388 - accuracy: 0.9879\n",
            "Epoch 7: val_accuracy improved from 0.95000 to 0.95312, saving model to ./_best_model.h5\n",
            "47/47 [==============================] - 24s 512ms/step - loss: 0.0388 - accuracy: 0.9879 - val_loss: 0.4125 - val_accuracy: 0.9531 - lr: 5.4881e-04\n",
            "Epoch 8/40\n",
            "47/47 [==============================] - ETA: 0s - loss: 0.0066 - accuracy: 0.9973\n",
            "Epoch 8: val_accuracy improved from 0.95312 to 0.95469, saving model to ./_best_model.h5\n",
            "47/47 [==============================] - 26s 562ms/step - loss: 0.0066 - accuracy: 0.9973 - val_loss: 0.3831 - val_accuracy: 0.9547 - lr: 4.9659e-04\n",
            "Epoch 9/40\n",
            "47/47 [==============================] - ETA: 0s - loss: 8.7317e-04 - accuracy: 1.0000\n",
            "Epoch 9: val_accuracy did not improve from 0.95469\n",
            "47/47 [==============================] - 24s 511ms/step - loss: 8.7317e-04 - accuracy: 1.0000 - val_loss: 0.3863 - val_accuracy: 0.9547 - lr: 4.4933e-04\n",
            "Epoch 10/40\n",
            "47/47 [==============================] - ETA: 0s - loss: 5.7567e-04 - accuracy: 1.0000\n",
            "Epoch 10: val_accuracy improved from 0.95469 to 0.95625, saving model to ./_best_model.h5\n",
            "47/47 [==============================] - 24s 512ms/step - loss: 5.7567e-04 - accuracy: 1.0000 - val_loss: 0.3825 - val_accuracy: 0.9563 - lr: 4.0657e-04\n",
            "Epoch 11/40\n",
            "47/47 [==============================] - ETA: 0s - loss: 5.7365e-04 - accuracy: 1.0000\n",
            "Epoch 11: val_accuracy did not improve from 0.95625\n",
            "47/47 [==============================] - 26s 559ms/step - loss: 5.7365e-04 - accuracy: 1.0000 - val_loss: 0.3818 - val_accuracy: 0.9563 - lr: 3.6788e-04\n",
            "Epoch 12/40\n",
            "47/47 [==============================] - ETA: 0s - loss: 4.2874e-04 - accuracy: 1.0000\n",
            "Epoch 12: val_accuracy did not improve from 0.95625\n",
            "47/47 [==============================] - 24s 509ms/step - loss: 4.2874e-04 - accuracy: 1.0000 - val_loss: 0.3810 - val_accuracy: 0.9563 - lr: 3.3287e-04\n",
            "Epoch 13/40\n",
            "47/47 [==============================] - ETA: 0s - loss: 4.0332e-04 - accuracy: 1.0000\n",
            "Epoch 13: val_accuracy did not improve from 0.95625\n",
            "47/47 [==============================] - 26s 561ms/step - loss: 4.0332e-04 - accuracy: 1.0000 - val_loss: 0.3808 - val_accuracy: 0.9563 - lr: 3.0119e-04\n",
            "Epoch 14/40\n",
            "47/47 [==============================] - ETA: 0s - loss: 4.0635e-04 - accuracy: 1.0000\n",
            "Epoch 14: val_accuracy did not improve from 0.95625\n",
            "47/47 [==============================] - 24s 510ms/step - loss: 4.0635e-04 - accuracy: 1.0000 - val_loss: 0.3799 - val_accuracy: 0.9563 - lr: 2.7253e-04\n",
            "Epoch 15/40\n",
            "47/47 [==============================] - ETA: 0s - loss: 3.8509e-04 - accuracy: 1.0000\n",
            "Epoch 15: val_accuracy did not improve from 0.95625\n",
            "47/47 [==============================] - 24s 510ms/step - loss: 3.8509e-04 - accuracy: 1.0000 - val_loss: 0.3796 - val_accuracy: 0.9563 - lr: 2.4660e-04\n",
            "Epoch 16/40\n",
            "47/47 [==============================] - ETA: 0s - loss: 3.4383e-04 - accuracy: 1.0000\n",
            "Epoch 16: val_accuracy did not improve from 0.95625\n",
            "47/47 [==============================] - 24s 508ms/step - loss: 3.4383e-04 - accuracy: 1.0000 - val_loss: 0.3793 - val_accuracy: 0.9563 - lr: 2.2313e-04\n",
            "Epoch 17/40\n",
            "47/47 [==============================] - ETA: 0s - loss: 3.3060e-04 - accuracy: 1.0000\n",
            "Epoch 17: val_accuracy did not improve from 0.95625\n",
            "47/47 [==============================] - 24s 508ms/step - loss: 3.3060e-04 - accuracy: 1.0000 - val_loss: 0.3794 - val_accuracy: 0.9563 - lr: 2.0190e-04\n",
            "Epoch 18/40\n",
            "47/47 [==============================] - ETA: 0s - loss: 3.2372e-04 - accuracy: 1.0000\n",
            "Epoch 18: val_accuracy did not improve from 0.95625\n",
            "47/47 [==============================] - 24s 508ms/step - loss: 3.2372e-04 - accuracy: 1.0000 - val_loss: 0.3790 - val_accuracy: 0.9563 - lr: 1.8268e-04\n",
            "Epoch 19/40\n",
            "47/47 [==============================] - ETA: 0s - loss: 3.1261e-04 - accuracy: 1.0000\n",
            "Epoch 19: val_accuracy did not improve from 0.95625\n",
            "47/47 [==============================] - 24s 508ms/step - loss: 3.1261e-04 - accuracy: 1.0000 - val_loss: 0.3787 - val_accuracy: 0.9563 - lr: 1.6530e-04\n",
            "Epoch 20/40\n",
            "47/47 [==============================] - ETA: 0s - loss: 3.1128e-04 - accuracy: 1.0000\n",
            "Epoch 20: val_accuracy did not improve from 0.95625\n",
            "47/47 [==============================] - 24s 509ms/step - loss: 3.1128e-04 - accuracy: 1.0000 - val_loss: 0.3787 - val_accuracy: 0.9563 - lr: 1.4957e-04\n",
            "Epoch 21/40\n",
            "47/47 [==============================] - ETA: 0s - loss: 2.9890e-04 - accuracy: 1.0000\n",
            "Epoch 21: val_accuracy did not improve from 0.95625\n",
            "47/47 [==============================] - 24s 509ms/step - loss: 2.9890e-04 - accuracy: 1.0000 - val_loss: 0.3784 - val_accuracy: 0.9563 - lr: 1.3534e-04\n",
            "Epoch 22/40\n",
            "47/47 [==============================] - ETA: 0s - loss: 2.9643e-04 - accuracy: 1.0000\n",
            "Epoch 22: val_accuracy improved from 0.95625 to 0.95781, saving model to ./_best_model.h5\n",
            "47/47 [==============================] - 26s 560ms/step - loss: 2.9643e-04 - accuracy: 1.0000 - val_loss: 0.3783 - val_accuracy: 0.9578 - lr: 1.2246e-04\n",
            "Epoch 23/40\n",
            "47/47 [==============================] - ETA: 0s - loss: 2.9220e-04 - accuracy: 1.0000\n",
            "Epoch 23: val_accuracy did not improve from 0.95781\n",
            "47/47 [==============================] - 26s 559ms/step - loss: 2.9220e-04 - accuracy: 1.0000 - val_loss: 0.3783 - val_accuracy: 0.9578 - lr: 1.1080e-04\n",
            "Epoch 24/40\n",
            "47/47 [==============================] - ETA: 0s - loss: 2.8216e-04 - accuracy: 1.0000\n",
            "Epoch 24: val_accuracy did not improve from 0.95781\n",
            "47/47 [==============================] - 26s 559ms/step - loss: 2.8216e-04 - accuracy: 1.0000 - val_loss: 0.3779 - val_accuracy: 0.9578 - lr: 1.0026e-04\n",
            "Epoch 25/40\n",
            "47/47 [==============================] - ETA: 0s - loss: 2.7761e-04 - accuracy: 1.0000\n",
            "Epoch 25: val_accuracy did not improve from 0.95781\n",
            "47/47 [==============================] - 24s 509ms/step - loss: 2.7761e-04 - accuracy: 1.0000 - val_loss: 0.3780 - val_accuracy: 0.9578 - lr: 9.0718e-05\n",
            "Epoch 26/40\n",
            "47/47 [==============================] - ETA: 0s - loss: 2.7398e-04 - accuracy: 1.0000\n",
            "Epoch 26: val_accuracy did not improve from 0.95781\n",
            "47/47 [==============================] - 24s 508ms/step - loss: 2.7398e-04 - accuracy: 1.0000 - val_loss: 0.3778 - val_accuracy: 0.9578 - lr: 8.2085e-05\n",
            "Epoch 27/40\n",
            "47/47 [==============================] - ETA: 0s - loss: 2.6780e-04 - accuracy: 1.0000\n",
            "Epoch 27: val_accuracy did not improve from 0.95781\n",
            "47/47 [==============================] - 24s 507ms/step - loss: 2.6780e-04 - accuracy: 1.0000 - val_loss: 0.3777 - val_accuracy: 0.9578 - lr: 7.4274e-05\n",
            "Epoch 28/40\n",
            "47/47 [==============================] - ETA: 0s - loss: 2.6512e-04 - accuracy: 1.0000\n",
            "Epoch 28: val_accuracy did not improve from 0.95781\n",
            "47/47 [==============================] - 26s 558ms/step - loss: 2.6512e-04 - accuracy: 1.0000 - val_loss: 0.3777 - val_accuracy: 0.9578 - lr: 6.7206e-05\n",
            "Epoch 29/40\n",
            "47/47 [==============================] - ETA: 0s - loss: 2.6140e-04 - accuracy: 1.0000\n",
            "Epoch 29: val_accuracy did not improve from 0.95781\n",
            "47/47 [==============================] - 24s 508ms/step - loss: 2.6140e-04 - accuracy: 1.0000 - val_loss: 0.3776 - val_accuracy: 0.9578 - lr: 6.0810e-05\n",
            "Epoch 30/40\n",
            "47/47 [==============================] - ETA: 0s - loss: 2.5928e-04 - accuracy: 1.0000\n",
            "Epoch 30: val_accuracy did not improve from 0.95781\n",
            "47/47 [==============================] - 26s 558ms/step - loss: 2.5928e-04 - accuracy: 1.0000 - val_loss: 0.3776 - val_accuracy: 0.9578 - lr: 5.5023e-05\n",
            "Epoch 31/40\n",
            "47/47 [==============================] - ETA: 0s - loss: 2.5766e-04 - accuracy: 1.0000\n",
            "Epoch 31: val_accuracy did not improve from 0.95781\n",
            "47/47 [==============================] - 26s 558ms/step - loss: 2.5766e-04 - accuracy: 1.0000 - val_loss: 0.3775 - val_accuracy: 0.9578 - lr: 4.9787e-05\n",
            "Epoch 32/40\n",
            "47/47 [==============================] - ETA: 0s - loss: 2.5446e-04 - accuracy: 1.0000\n",
            "Epoch 32: val_accuracy did not improve from 0.95781\n",
            "47/47 [==============================] - 24s 509ms/step - loss: 2.5446e-04 - accuracy: 1.0000 - val_loss: 0.3774 - val_accuracy: 0.9578 - lr: 4.5049e-05\n",
            "Epoch 33/40\n",
            "47/47 [==============================] - ETA: 0s - loss: 2.5340e-04 - accuracy: 1.0000\n",
            "Epoch 33: val_accuracy did not improve from 0.95781\n",
            "47/47 [==============================] - 26s 558ms/step - loss: 2.5340e-04 - accuracy: 1.0000 - val_loss: 0.3774 - val_accuracy: 0.9578 - lr: 4.0762e-05\n",
            "Epoch 34/40\n",
            "47/47 [==============================] - ETA: 0s - loss: 2.5353e-04 - accuracy: 1.0000\n",
            "Epoch 34: val_accuracy did not improve from 0.95781\n",
            "47/47 [==============================] - 26s 560ms/step - loss: 2.5353e-04 - accuracy: 1.0000 - val_loss: 0.3774 - val_accuracy: 0.9578 - lr: 3.6883e-05\n",
            "Epoch 35/40\n",
            "47/47 [==============================] - ETA: 0s - loss: 2.5029e-04 - accuracy: 1.0000\n",
            "Epoch 35: val_accuracy did not improve from 0.95781\n",
            "47/47 [==============================] - 26s 558ms/step - loss: 2.5029e-04 - accuracy: 1.0000 - val_loss: 0.3773 - val_accuracy: 0.9578 - lr: 3.3373e-05\n",
            "Epoch 36/40\n",
            "47/47 [==============================] - ETA: 0s - loss: 2.4673e-04 - accuracy: 1.0000\n",
            "Epoch 36: val_accuracy did not improve from 0.95781\n",
            "47/47 [==============================] - 24s 508ms/step - loss: 2.4673e-04 - accuracy: 1.0000 - val_loss: 0.3773 - val_accuracy: 0.9578 - lr: 3.0197e-05\n",
            "Epoch 37/40\n",
            "47/47 [==============================] - ETA: 0s - loss: 2.4580e-04 - accuracy: 1.0000\n",
            "Epoch 37: val_accuracy did not improve from 0.95781\n",
            "47/47 [==============================] - 26s 558ms/step - loss: 2.4580e-04 - accuracy: 1.0000 - val_loss: 0.3773 - val_accuracy: 0.9578 - lr: 2.7324e-05\n",
            "Epoch 38/40\n",
            "47/47 [==============================] - ETA: 0s - loss: 2.4528e-04 - accuracy: 1.0000\n",
            "Epoch 38: val_accuracy did not improve from 0.95781\n",
            "47/47 [==============================] - 26s 559ms/step - loss: 2.4528e-04 - accuracy: 1.0000 - val_loss: 0.3773 - val_accuracy: 0.9578 - lr: 2.4724e-05\n",
            "Epoch 39/40\n",
            "47/47 [==============================] - ETA: 0s - loss: 2.4316e-04 - accuracy: 1.0000\n",
            "Epoch 39: val_accuracy did not improve from 0.95781\n",
            "47/47 [==============================] - 24s 508ms/step - loss: 2.4316e-04 - accuracy: 1.0000 - val_loss: 0.3772 - val_accuracy: 0.9578 - lr: 2.2371e-05\n",
            "Epoch 40/40\n",
            "47/47 [==============================] - ETA: 0s - loss: 2.4165e-04 - accuracy: 1.0000\n",
            "Epoch 40: val_accuracy did not improve from 0.95781\n",
            "47/47 [==============================] - 26s 558ms/step - loss: 2.4165e-04 - accuracy: 1.0000 - val_loss: 0.3772 - val_accuracy: 0.9578 - lr: 2.0242e-05\n"
          ]
        }
      ]
    },
    {
      "cell_type": "code",
      "source": [],
      "metadata": {
        "id": "Em6eNtMyTa1A"
      },
      "execution_count": null,
      "outputs": []
    },
    {
      "cell_type": "code",
      "source": [
        "plt.plot(history.history['accuracy'])\n",
        "plt.plot(history.history['val_accuracy'])\n",
        "plt.title('model accuracy')\n",
        "plt.ylabel('accuracy')\n",
        "plt.xlabel('epoch')\n",
        "plt.legend(['train', 'test'], loc='upper left')\n",
        "plt.show()"
      ],
      "metadata": {
        "colab": {
          "base_uri": "https://localhost:8080/",
          "height": 295
        },
        "id": "Vx059nLtJzSR",
        "outputId": "f8a20051-c7db-47aa-c869-cd917e927ff0"
      },
      "execution_count": null,
      "outputs": [
        {
          "output_type": "display_data",
          "data": {
            "text/plain": [
              "<Figure size 432x288 with 1 Axes>"
            ],
            "image/png": "[encoded data removed]"
          },
          "metadata": {
            "needs_background": "light"
          }
        }
      ]
    },
    {
      "cell_type": "code",
      "source": [
        "plt.plot(history.history['loss'])\n",
        "plt.plot(history.history['val_loss'])\n",
        "plt.title('model loss')\n",
        "plt.ylabel('loss')\n",
        "plt.xlabel('epoch')\n",
        "plt.legend(['train', 'test'], loc='upper left')\n",
        "plt.show()"
      ],
      "metadata": {
        "colab": {
          "base_uri": "https://localhost:8080/",
          "height": 295
        },
        "id": "6qbByzHPMt3g",
        "outputId": "085d7a9f-11b8-4150-bfa3-06ef0d67a4c0"
      },
      "execution_count": null,
      "outputs": [
        {
          "output_type": "display_data",
          "data": {
            "text/plain": [
              "<Figure size 432x288 with 1 Axes>"
            ],
            "image/png": "[encoded data removed]"
          },
          "metadata": {
            "needs_background": "light"
          }
        }
      ]
    },
    {
      "cell_type": "code",
      "source": [
        "ypred = model.predict(X_test)"
      ],
      "metadata": {
        "id": "JSiPi108CTLF"
      },
      "execution_count": null,
      "outputs": []
    },
    {
      "cell_type": "code",
      "source": [
        "np.set_printoptions(suppress=True)"
      ],
      "metadata": {
        "id": "kxpPKZOiC3xF"
      },
      "execution_count": null,
      "outputs": []
    },
    {
      "cell_type": "code",
      "source": [
        "ypred[20]"
      ],
      "metadata": {
        "colab": {
          "base_uri": "https://localhost:8080/"
        },
        "id": "Z9kBB7U-D_se",
        "outputId": "da4b7fd2-4554-4849-cc47-f83f5b4de276"
      },
      "execution_count": null,
      "outputs": [
        {
          "output_type": "execute_result",
          "data": {
            "text/plain": [
              "array([0.00001043, 0.00000285, 0.99998677], dtype=float32)"
            ]
          },
          "metadata": {},
          "execution_count": 70
        }
      ]
    },
    {
      "cell_type": "code",
      "source": [
        "np.argmax(ypred[0])"
      ],
      "metadata": {
        "colab": {
          "base_uri": "https://localhost:8080/"
        },
        "id": "QLFwtnFUCVj8",
        "outputId": "d8cff612-5775-4c02-d1ea-c089bc71908e"
      },
      "execution_count": null,
      "outputs": [
        {
          "output_type": "execute_result",
          "data": {
            "text/plain": [
              "1"
            ]
          },
          "metadata": {},
          "execution_count": 62
        }
      ]
    },
    {
      "cell_type": "code",
      "source": [
        "ytesti = y_test.idxmax(axis = 1)\n",
        "ypred = model.predict(X_test)\n",
        "y_pred = pd.DataFrame(ypred)\n",
        "ypredi = y_pred.idxmax(axis = 1)"
      ],
      "metadata": {
        "id": "XhoJr42oOAVC"
      },
      "execution_count": null,
      "outputs": []
    },
    {
      "cell_type": "code",
      "source": [
        "from sklearn.metrics import confusion_matrix\n",
        "\n",
        "#Generate the confusion matrix\n",
        "cf_matrix = confusion_matrix(ytesti, ypredi)\n",
        "\n",
        "print(cf_matrix)"
      ],
      "metadata": {
        "colab": {
          "base_uri": "https://localhost:8080/"
        },
        "id": "0cDbqpMAVHN2",
        "outputId": "53b9c629-efd8-4245-877a-5be82c62433d"
      },
      "execution_count": null,
      "outputs": [
        {
          "output_type": "stream",
          "name": "stdout",
          "text": [
            "[[195   0  10]\n",
            " [  0 218   6]\n",
            " [  7   4 200]]\n"
          ]
        }
      ]
    },
    {
      "cell_type": "code",
      "source": [
        "import seaborn as sns\n",
        "\n",
        "ax = sns.heatmap(cf_matrix, annot=True, cmap='Blues')\n",
        "\n",
        "ax.set_title('Confusion Matrix\\n\\n');\n",
        "ax.set_xlabel('\\nPredicted Values')\n",
        "ax.set_ylabel('Actual Values ');\n",
        "\n",
        "## Ticket labels - List must be in alphabetical order\n",
        "ax.xaxis.set_ticklabels(['NEGATIVE','NEUTRAL','POSITIVE'])\n",
        "ax.yaxis.set_ticklabels(['NEGATIVE','NEUTRAL','POSITIVE'])\n",
        "\n",
        "plt.show()"
      ],
      "metadata": {
        "colab": {
          "base_uri": "https://localhost:8080/",
          "height": 337
        },
        "id": "vNShgrzlVSAC",
        "outputId": "fb30bd81-90e3-44cf-e8cd-99c59a9df061"
      },
      "execution_count": null,
      "outputs": [
        {
          "output_type": "display_data",
          "data": {
            "text/plain": [
              "<Figure size 432x288 with 2 Axes>"
            ],
            "image/png": "[encoded data removed]"
          },
          "metadata": {
            "needs_background": "light"
          }
        }
      ]
    },
    {
      "cell_type": "code",
      "source": [],
      "metadata": {
        "id": "A7mPshv1VxdZ"
      },
      "execution_count": null,
      "outputs": []
    }
  ],
  "metadata": {
    "colab": {
      "provenance": []
    },
    "kernelspec": {
      "display_name": "Python 3",
      "language": "python",
      "name": "python3"
    },
    "language_info": {
      "codemirror_mode": {
        "name": "ipython",
        "version": 3
      },
      "file_extension": ".py",
      "mimetype": "text/x-python",
      "name": "python",
      "nbconvert_exporter": "python",
      "pygments_lexer": "ipython3",
      "version": "3.7.2"
    },
    "accelerator": "GPU"
  },
  "nbformat": 4,
  "nbformat_minor": 0
}